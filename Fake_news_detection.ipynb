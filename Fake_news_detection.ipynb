{
 "cells": [
  {
   "cell_type": "markdown",
   "metadata": {},
   "source": [
    "# Natural Language Processing\n",
    "## Fake News Detection "
   ]
  },
  {
   "cell_type": "code",
   "execution_count": 1,
   "metadata": {},
   "outputs": [],
   "source": [
    "# import libraries\n",
    "import ftfy\n",
    "import nltk\n",
    "import json\n",
    "import re\n",
    "import seaborn as sns\n",
    "import pandas as pd\n",
    "import matplotlib.pyplot as plt\n",
    "%matplotlib inline\n",
    "import pandas as pd\n",
    "import csv\n",
    "import numpy as np\n",
    "import nltk\n",
    "import seaborn as sb\n",
    "import warnings\n",
    "\n",
    "from sklearn.model_selection import train_test_split\n",
    "from sklearn.base import BaseEstimator, TransformerMixin\n",
    "from sklearn.pipeline import Pipeline, FeatureUnion\n",
    "from sklearn.feature_extraction import DictVectorizer\n",
    "from sklearn.feature_selection import SelectKBest, chi2\n",
    "from sklearn.linear_model import LogisticRegression\n",
    "from sklearn.naive_bayes import MultinomialNB\n",
    "from sklearn.model_selection import cross_validate, StratifiedKFold\n",
    "from sklearn.metrics import accuracy_score, classification_report, confusion_matrix\n",
    "from sklearn.model_selection import GridSearchCV\n",
    "from sklearn.feature_extraction.text import TfidfTransformer\n",
    "from sklearn.preprocessing import Binarizer\n",
    "\n",
    "\n",
    "from collections import Counter\n",
    "from os import listdir, makedirs\n",
    "from os.path import isfile, join, splitext, split\n",
    "\n",
    "from nltk.stem import SnowballStemmer\n",
    "from nltk.stem.porter import PorterStemmer\n",
    "from nltk.tokenize import word_tokenize\n",
    "from nltk.corpus import stopwords\n",
    "from collections import defaultdict\n",
    "from nltk.corpus import wordnet as wn\n",
    "from nltk.stem import WordNetLemmatizer\n",
    "from nltk.tokenize import word_tokenize\n",
    "from nltk import pos_tag\n",
    "#nltk.download('stopwords')\n",
    "\n",
    "\n",
    "from wordcloud import STOPWORDS, WordCloud\n",
    "\n",
    "from sklearn.feature_extraction.text import CountVectorizer\n",
    "from sklearn.pipeline import Pipeline, FeatureUnion\n",
    "from sklearn.feature_extraction.text import TfidfVectorizer\n",
    "from sklearn.preprocessing import StandardScaler\n",
    "from sklearn.decomposition import TruncatedSVD\n",
    "from sklearn.metrics import accuracy_score, classification_report, confusion_matrix\n",
    "from sklearn.model_selection import cross_validate, StratifiedKFold\n",
    "from sklearn.naive_bayes import GaussianNB\n",
    "\n",
    "from sklearn import tree\n",
    "from sklearn.ensemble import RandomForestClassifier\n",
    "from sklearn import model_selection, naive_bayes, svm\n",
    "from sklearn.feature_extraction.text import TfidfVectorizer\n",
    "from sklearn.preprocessing import LabelEncoder\n",
    "from xgboost import XGBClassifier # need to import xboost calssifer\n",
    "\n",
    "warnings.filterwarnings('ignore')\n",
    "np.random.seed(0)"
   ]
  },
  {
   "cell_type": "markdown",
   "metadata": {},
   "source": [
    "# Loading the LIAR Dataset\n",
    "The dataset is in the format of 3 tab seperated files. Loading it as a pandas dataframe. Combining the train, test and validation files to a single file so that we can do the train and test split as required."
   ]
  },
  {
   "cell_type": "code",
   "execution_count": 2,
   "metadata": {},
   "outputs": [],
   "source": [
    "# Importing the dataset\n",
    "train = pd.read_csv('train.tsv', delimiter='\\t', quoting=3, header=None)\n",
    "test = pd.read_csv('test.tsv', delimiter='\\t', quoting=3, header=None)\n",
    "valid = pd.read_csv('valid.tsv', delimiter='\\t', quoting=3, header=None)"
   ]
  },
  {
   "cell_type": "code",
   "execution_count": 3,
   "metadata": {},
   "outputs": [
    {
     "data": {
      "text/html": [
       "<div>\n",
       "<style scoped>\n",
       "    .dataframe tbody tr th:only-of-type {\n",
       "        vertical-align: middle;\n",
       "    }\n",
       "\n",
       "    .dataframe tbody tr th {\n",
       "        vertical-align: top;\n",
       "    }\n",
       "\n",
       "    .dataframe thead th {\n",
       "        text-align: right;\n",
       "    }\n",
       "</style>\n",
       "<table border=\"1\" class=\"dataframe\">\n",
       "  <thead>\n",
       "    <tr style=\"text-align: right;\">\n",
       "      <th></th>\n",
       "      <th>index</th>\n",
       "      <th>0</th>\n",
       "      <th>1</th>\n",
       "      <th>2</th>\n",
       "      <th>3</th>\n",
       "      <th>4</th>\n",
       "      <th>5</th>\n",
       "      <th>6</th>\n",
       "      <th>7</th>\n",
       "      <th>8</th>\n",
       "      <th>9</th>\n",
       "      <th>10</th>\n",
       "      <th>11</th>\n",
       "      <th>12</th>\n",
       "      <th>13</th>\n",
       "    </tr>\n",
       "  </thead>\n",
       "  <tbody>\n",
       "    <tr>\n",
       "      <th>0</th>\n",
       "      <td>8289</td>\n",
       "      <td>423.json</td>\n",
       "      <td>true</td>\n",
       "      <td>\"McCain opposes a woman's right to choose.\"</td>\n",
       "      <td>abortion</td>\n",
       "      <td>moveon</td>\n",
       "      <td>NaN</td>\n",
       "      <td>NaN</td>\n",
       "      <td>democrat</td>\n",
       "      <td>2</td>\n",
       "      <td>4</td>\n",
       "      <td>3</td>\n",
       "      <td>0</td>\n",
       "      <td>0</td>\n",
       "      <td>an e-mail message</td>\n",
       "    </tr>\n",
       "    <tr>\n",
       "      <th>1</th>\n",
       "      <td>1156</td>\n",
       "      <td>10379.json</td>\n",
       "      <td>barely-true</td>\n",
       "      <td>The name Frank has risen in popularity by 20 p...</td>\n",
       "      <td>pop-culture</td>\n",
       "      <td>matt-lauer</td>\n",
       "      <td>Today Show host</td>\n",
       "      <td>NaN</td>\n",
       "      <td>none</td>\n",
       "      <td>1</td>\n",
       "      <td>0</td>\n",
       "      <td>0</td>\n",
       "      <td>0</td>\n",
       "      <td>0</td>\n",
       "      <td>a red carpet interview before the Golden Globes</td>\n",
       "    </tr>\n",
       "  </tbody>\n",
       "</table>\n",
       "</div>"
      ],
      "text/plain": [
       "   index           0            1  \\\n",
       "0   8289    423.json         true   \n",
       "1   1156  10379.json  barely-true   \n",
       "\n",
       "                                                   2            3           4  \\\n",
       "0        \"McCain opposes a woman's right to choose.\"     abortion      moveon   \n",
       "1  The name Frank has risen in popularity by 20 p...  pop-culture  matt-lauer   \n",
       "\n",
       "                 5    6         7  8  9  10  11  12  \\\n",
       "0              NaN  NaN  democrat  2  4   3   0   0   \n",
       "1  Today Show host  NaN      none  1  0   0   0   0   \n",
       "\n",
       "                                                13  \n",
       "0                                an e-mail message  \n",
       "1  a red carpet interview before the Golden Globes  "
      ]
     },
     "execution_count": 3,
     "metadata": {},
     "output_type": "execute_result"
    }
   ],
   "source": [
    "df_raw = pd.concat([train, test, valid], axis=0, sort=False)\n",
    "df_raw = df_raw.sample(frac=1).reset_index()\n",
    "df_raw.head(2)"
   ]
  },
  {
   "cell_type": "code",
   "execution_count": 4,
   "metadata": {},
   "outputs": [
    {
     "data": {
      "text/plain": [
       "(12836, 15)"
      ]
     },
     "execution_count": 4,
     "metadata": {},
     "output_type": "execute_result"
    }
   ],
   "source": [
    "# The file contains 12836 rows and 15 columns\n",
    "df_raw.shape"
   ]
  },
  {
   "cell_type": "code",
   "execution_count": 5,
   "metadata": {},
   "outputs": [],
   "source": [
    "# naming the columns of the dataset\n",
    "df_raw.columns=[\"index\",\"ID\", \"label\", \"statement\", \"subject\", \"speaker\", \"job\", \"state\", \"party\", \"barely_true_cts\",\n",
    "        \"false_cts\", \"half_true_cts\", \"mostly_true_cts\", \"pants_on_fire_cts\", \"context\"]"
   ]
  },
  {
   "cell_type": "code",
   "execution_count": 6,
   "metadata": {},
   "outputs": [
    {
     "data": {
      "text/html": [
       "<div>\n",
       "<style scoped>\n",
       "    .dataframe tbody tr th:only-of-type {\n",
       "        vertical-align: middle;\n",
       "    }\n",
       "\n",
       "    .dataframe tbody tr th {\n",
       "        vertical-align: top;\n",
       "    }\n",
       "\n",
       "    .dataframe thead th {\n",
       "        text-align: right;\n",
       "    }\n",
       "</style>\n",
       "<table border=\"1\" class=\"dataframe\">\n",
       "  <thead>\n",
       "    <tr style=\"text-align: right;\">\n",
       "      <th></th>\n",
       "      <th>index</th>\n",
       "      <th>ID</th>\n",
       "      <th>label</th>\n",
       "      <th>statement</th>\n",
       "      <th>subject</th>\n",
       "      <th>speaker</th>\n",
       "      <th>job</th>\n",
       "      <th>state</th>\n",
       "      <th>party</th>\n",
       "      <th>barely_true_cts</th>\n",
       "      <th>false_cts</th>\n",
       "      <th>half_true_cts</th>\n",
       "      <th>mostly_true_cts</th>\n",
       "      <th>pants_on_fire_cts</th>\n",
       "      <th>context</th>\n",
       "    </tr>\n",
       "  </thead>\n",
       "  <tbody>\n",
       "    <tr>\n",
       "      <th>0</th>\n",
       "      <td>8289</td>\n",
       "      <td>423.json</td>\n",
       "      <td>true</td>\n",
       "      <td>\"McCain opposes a woman's right to choose.\"</td>\n",
       "      <td>abortion</td>\n",
       "      <td>moveon</td>\n",
       "      <td>NaN</td>\n",
       "      <td>NaN</td>\n",
       "      <td>democrat</td>\n",
       "      <td>2</td>\n",
       "      <td>4</td>\n",
       "      <td>3</td>\n",
       "      <td>0</td>\n",
       "      <td>0</td>\n",
       "      <td>an e-mail message</td>\n",
       "    </tr>\n",
       "    <tr>\n",
       "      <th>1</th>\n",
       "      <td>1156</td>\n",
       "      <td>10379.json</td>\n",
       "      <td>barely-true</td>\n",
       "      <td>The name Frank has risen in popularity by 20 p...</td>\n",
       "      <td>pop-culture</td>\n",
       "      <td>matt-lauer</td>\n",
       "      <td>Today Show host</td>\n",
       "      <td>NaN</td>\n",
       "      <td>none</td>\n",
       "      <td>1</td>\n",
       "      <td>0</td>\n",
       "      <td>0</td>\n",
       "      <td>0</td>\n",
       "      <td>0</td>\n",
       "      <td>a red carpet interview before the Golden Globes</td>\n",
       "    </tr>\n",
       "  </tbody>\n",
       "</table>\n",
       "</div>"
      ],
      "text/plain": [
       "   index          ID        label  \\\n",
       "0   8289    423.json         true   \n",
       "1   1156  10379.json  barely-true   \n",
       "\n",
       "                                           statement      subject     speaker  \\\n",
       "0        \"McCain opposes a woman's right to choose.\"     abortion      moveon   \n",
       "1  The name Frank has risen in popularity by 20 p...  pop-culture  matt-lauer   \n",
       "\n",
       "               job state     party  barely_true_cts  false_cts  half_true_cts  \\\n",
       "0              NaN   NaN  democrat                2          4              3   \n",
       "1  Today Show host   NaN      none                1          0              0   \n",
       "\n",
       "   mostly_true_cts  pants_on_fire_cts  \\\n",
       "0                0                  0   \n",
       "1                0                  0   \n",
       "\n",
       "                                           context  \n",
       "0                                an e-mail message  \n",
       "1  a red carpet interview before the Golden Globes  "
      ]
     },
     "execution_count": 6,
     "metadata": {},
     "output_type": "execute_result"
    }
   ],
   "source": [
    "df_raw.head(2)"
   ]
  },
  {
   "cell_type": "code",
   "execution_count": 7,
   "metadata": {},
   "outputs": [
    {
     "data": {
      "text/plain": [
       "['\"McCain opposes a woman\\'s right to choose.\"',\n",
       " 'The name Frank has risen in popularity by 20 percent since the debut of House of Cardson Netflix.',\n",
       " 'Says Ted Cruz never denied his father was photographedwith Lee Harvey Oswald.',\n",
       " 'Its been 14 years since a president or a vice president or a member of their family has not gone and attended at least an event at the Olympics.',\n",
       " 'In the year 2013, the Obama administration released 104,000 criminal illegal aliens. They released 196 murderers people with homicide convictions, who are here illegally.',\n",
       " 'Says the United States does not trade as much as other developed nations.',\n",
       " '\"Oil companies ...currently have 68-million acres that they\\'re not using.\"',\n",
       " 'Says 24 million people in this country cant find a full-time job, 50 million cant see a doctor when theyre sick, 47 million people need government help to feed themselves and 15 million families owe more than the value of their home.',\n",
       " 'President Obama went around the world and apologized for America.',\n",
       " '\"Joe Biden is the only candidate with a plan to get us out of Iraq and keep us out.\"']"
      ]
     },
     "execution_count": 7,
     "metadata": {},
     "output_type": "execute_result"
    }
   ],
   "source": [
    "# some of the statements\n",
    "df_raw['statement'].head(10).tolist()"
   ]
  },
  {
   "cell_type": "code",
   "execution_count": 8,
   "metadata": {},
   "outputs": [
    {
     "data": {
      "text/plain": [
       "['moveon',\n",
       " 'matt-lauer',\n",
       " 'donald-trump',\n",
       " 'candy-crowley',\n",
       " 'ted-cruz',\n",
       " 'rob-portman',\n",
       " 'barack-obama',\n",
       " 'alan-grayson',\n",
       " 'mitt-romney',\n",
       " 'joe-biden',\n",
       " 'ellen-rosenblum',\n",
       " 'linda-finn',\n",
       " 'us-chamber-commerce',\n",
       " 'tom-barrett',\n",
       " 'chris-christie',\n",
       " 'russell-edwards',\n",
       " 'mitt-romney',\n",
       " 'jeff-merkley',\n",
       " 'rush-limbaugh',\n",
       " 'john-boehner']"
      ]
     },
     "execution_count": 8,
     "metadata": {},
     "output_type": "execute_result"
    }
   ],
   "source": [
    "# some of the speakers\n",
    "df_raw['speaker'].head(20).tolist()"
   ]
  },
  {
   "cell_type": "markdown",
   "metadata": {},
   "source": [
    "# Exploratory Data Analysis"
   ]
  },
  {
   "cell_type": "code",
   "execution_count": 9,
   "metadata": {},
   "outputs": [
    {
     "data": {
      "text/plain": [
       "Text(0.5, 1.0, 'Types & Number of Classes in the dataset')"
      ]
     },
     "execution_count": 9,
     "metadata": {},
     "output_type": "execute_result"
    },
    {
     "data": {
      "image/png": "[encoded data removed]",
      "text/plain": [
       "<Figure size 432x288 with 1 Axes>"
      ]
     },
     "metadata": {
      "needs_background": "light"
     },
     "output_type": "display_data"
    }
   ],
   "source": [
    "sns.countplot(x='label',data=df_raw)\n",
    "plt.title('Types & Number of Classes in the dataset')"
   ]
  },
  {
   "cell_type": "markdown",
   "metadata": {},
   "source": [
    "### Converting multiclass labels to two classes - Fake and True for exploratory data analysis"
   ]
  },
  {
   "cell_type": "code",
   "execution_count": 10,
   "metadata": {},
   "outputs": [],
   "source": [
    "#function for mapping labels \"true, mostly-true, half-true\" to TRUE and \"false, barely-true, pants-fire\" to FAKE.\n",
    "def binary_class_dataset(data):\n",
    "    \n",
    "    data = data.iloc[:, [2, 3]]\n",
    "    data.columns = ['label', 'statement']\n",
    "    Original_labels = {\n",
    "        'true': 'True',\n",
    "        'mostly-true': 'True',\n",
    "        'half-true': 'True',\n",
    "        'false': 'Fake',\n",
    "        'barely-true': 'Fake',\n",
    "        'pants-fire': 'Fake'\n",
    "    }\n",
    "    data['label'] = data['label'].map(Original_labels)\n",
    "\n",
    "    return data"
   ]
  },
  {
   "cell_type": "code",
   "execution_count": 11,
   "metadata": {},
   "outputs": [],
   "source": [
    "# running the function on the loaded dataframe\n",
    "bi_class= binary_class_dataset(df_raw)"
   ]
  },
  {
   "cell_type": "code",
   "execution_count": 12,
   "metadata": {},
   "outputs": [
    {
     "data": {
      "text/html": [
       "<div>\n",
       "<style scoped>\n",
       "    .dataframe tbody tr th:only-of-type {\n",
       "        vertical-align: middle;\n",
       "    }\n",
       "\n",
       "    .dataframe tbody tr th {\n",
       "        vertical-align: top;\n",
       "    }\n",
       "\n",
       "    .dataframe thead th {\n",
       "        text-align: right;\n",
       "    }\n",
       "</style>\n",
       "<table border=\"1\" class=\"dataframe\">\n",
       "  <thead>\n",
       "    <tr style=\"text-align: right;\">\n",
       "      <th></th>\n",
       "      <th>label</th>\n",
       "      <th>statement</th>\n",
       "    </tr>\n",
       "  </thead>\n",
       "  <tbody>\n",
       "    <tr>\n",
       "      <th>0</th>\n",
       "      <td>True</td>\n",
       "      <td>\"McCain opposes a woman's right to choose.\"</td>\n",
       "    </tr>\n",
       "    <tr>\n",
       "      <th>1</th>\n",
       "      <td>Fake</td>\n",
       "      <td>The name Frank has risen in popularity by 20 p...</td>\n",
       "    </tr>\n",
       "  </tbody>\n",
       "</table>\n",
       "</div>"
      ],
      "text/plain": [
       "  label                                          statement\n",
       "0  True        \"McCain opposes a woman's right to choose.\"\n",
       "1  Fake  The name Frank has risen in popularity by 20 p..."
      ]
     },
     "execution_count": 12,
     "metadata": {},
     "output_type": "execute_result"
    }
   ],
   "source": [
    "# new dataset with binary class labels - True and Fake substituted for the originals labels\n",
    "\n",
    "bi_class.head(2)"
   ]
  },
  {
   "cell_type": "markdown",
   "metadata": {},
   "source": [
    "## Creating Word Clouds for the text 'statements' in the LIAR dataset"
   ]
  },
  {
   "cell_type": "code",
   "execution_count": 13,
   "metadata": {},
   "outputs": [
    {
     "data": {
      "image/png": "[encoded data removed]",
      "text/plain": [
       "<Figure size 432x288 with 1 Axes>"
      ]
     },
     "metadata": {
      "needs_background": "light"
     },
     "output_type": "display_data"
    }
   ],
   "source": [
    "np.random.seed(0) # setting seed to get similar results over multiple experiments.\n",
    "\n",
    "# word cloud for all the statements in the entire dataset\n",
    "text = bi_class['statement'].values\n",
    "wordcloud = WordCloud(width=3000, height=2000, background_color='white',stopwords=STOPWORDS).generate(str(text))\n",
    "plt.imshow(wordcloud)\n",
    "plt.axis('off')\n",
    "plt.title(\"Word Cloud of 'Statements' in LIAR dataset\")\n",
    "plt.show()"
   ]
  },
  {
   "cell_type": "code",
   "execution_count": 14,
   "metadata": {},
   "outputs": [],
   "source": [
    "# creating two dataset consisting of True and Fake statements seperately\n",
    "np.random.seed(0)\n",
    "true_statements_dataset = bi_class[bi_class['label'].astype(str) == 'True']\n",
    "fake_statements_dataset = bi_class[bi_class['label'].astype(str) == 'Fake']"
   ]
  },
  {
   "cell_type": "code",
   "execution_count": 15,
   "metadata": {},
   "outputs": [
    {
     "data": {
      "text/html": [
       "<div>\n",
       "<style scoped>\n",
       "    .dataframe tbody tr th:only-of-type {\n",
       "        vertical-align: middle;\n",
       "    }\n",
       "\n",
       "    .dataframe tbody tr th {\n",
       "        vertical-align: top;\n",
       "    }\n",
       "\n",
       "    .dataframe thead th {\n",
       "        text-align: right;\n",
       "    }\n",
       "</style>\n",
       "<table border=\"1\" class=\"dataframe\">\n",
       "  <thead>\n",
       "    <tr style=\"text-align: right;\">\n",
       "      <th></th>\n",
       "      <th>label</th>\n",
       "      <th>statement</th>\n",
       "    </tr>\n",
       "  </thead>\n",
       "  <tbody>\n",
       "    <tr>\n",
       "      <th>0</th>\n",
       "      <td>True</td>\n",
       "      <td>\"McCain opposes a woman's right to choose.\"</td>\n",
       "    </tr>\n",
       "    <tr>\n",
       "      <th>3</th>\n",
       "      <td>True</td>\n",
       "      <td>Its been 14 years since a president or a vice ...</td>\n",
       "    </tr>\n",
       "    <tr>\n",
       "      <th>4</th>\n",
       "      <td>True</td>\n",
       "      <td>In the year 2013, the Obama administration rel...</td>\n",
       "    </tr>\n",
       "    <tr>\n",
       "      <th>5</th>\n",
       "      <td>True</td>\n",
       "      <td>Says the United States does not trade as much ...</td>\n",
       "    </tr>\n",
       "    <tr>\n",
       "      <th>7</th>\n",
       "      <td>True</td>\n",
       "      <td>Says 24 million people in this country cant fi...</td>\n",
       "    </tr>\n",
       "  </tbody>\n",
       "</table>\n",
       "</div>"
      ],
      "text/plain": [
       "  label                                          statement\n",
       "0  True        \"McCain opposes a woman's right to choose.\"\n",
       "3  True  Its been 14 years since a president or a vice ...\n",
       "4  True  In the year 2013, the Obama administration rel...\n",
       "5  True  Says the United States does not trade as much ...\n",
       "7  True  Says 24 million people in this country cant fi..."
      ]
     },
     "execution_count": 15,
     "metadata": {},
     "output_type": "execute_result"
    }
   ],
   "source": [
    "np.random.seed(0)\n",
    "# contains only TRUE statements\n",
    "true_statements_dataset.head(5)"
   ]
  },
  {
   "cell_type": "code",
   "execution_count": 16,
   "metadata": {},
   "outputs": [
    {
     "data": {
      "text/html": [
       "<div>\n",
       "<style scoped>\n",
       "    .dataframe tbody tr th:only-of-type {\n",
       "        vertical-align: middle;\n",
       "    }\n",
       "\n",
       "    .dataframe tbody tr th {\n",
       "        vertical-align: top;\n",
       "    }\n",
       "\n",
       "    .dataframe thead th {\n",
       "        text-align: right;\n",
       "    }\n",
       "</style>\n",
       "<table border=\"1\" class=\"dataframe\">\n",
       "  <thead>\n",
       "    <tr style=\"text-align: right;\">\n",
       "      <th></th>\n",
       "      <th>label</th>\n",
       "      <th>statement</th>\n",
       "    </tr>\n",
       "  </thead>\n",
       "  <tbody>\n",
       "    <tr>\n",
       "      <th>1</th>\n",
       "      <td>Fake</td>\n",
       "      <td>The name Frank has risen in popularity by 20 p...</td>\n",
       "    </tr>\n",
       "    <tr>\n",
       "      <th>2</th>\n",
       "      <td>Fake</td>\n",
       "      <td>Says Ted Cruz never denied his father was phot...</td>\n",
       "    </tr>\n",
       "    <tr>\n",
       "      <th>6</th>\n",
       "      <td>Fake</td>\n",
       "      <td>\"Oil companies ...currently have 68-million ac...</td>\n",
       "    </tr>\n",
       "    <tr>\n",
       "      <th>8</th>\n",
       "      <td>Fake</td>\n",
       "      <td>President Obama went around the world and apol...</td>\n",
       "    </tr>\n",
       "    <tr>\n",
       "      <th>12</th>\n",
       "      <td>Fake</td>\n",
       "      <td>The new health care law crushes small business...</td>\n",
       "    </tr>\n",
       "  </tbody>\n",
       "</table>\n",
       "</div>"
      ],
      "text/plain": [
       "   label                                          statement\n",
       "1   Fake  The name Frank has risen in popularity by 20 p...\n",
       "2   Fake  Says Ted Cruz never denied his father was phot...\n",
       "6   Fake  \"Oil companies ...currently have 68-million ac...\n",
       "8   Fake  President Obama went around the world and apol...\n",
       "12  Fake  The new health care law crushes small business..."
      ]
     },
     "execution_count": 16,
     "metadata": {},
     "output_type": "execute_result"
    }
   ],
   "source": [
    "# contains only FAKE statements\n",
    "np.random.seed(0)\n",
    "fake_statements_dataset.head(5)"
   ]
  },
  {
   "cell_type": "code",
   "execution_count": 17,
   "metadata": {},
   "outputs": [
    {
     "data": {
      "image/png": "[encoded data removed]",
      "text/plain": [
       "<Figure size 432x288 with 1 Axes>"
      ]
     },
     "metadata": {
      "needs_background": "light"
     },
     "output_type": "display_data"
    }
   ],
   "source": [
    "np.random.seed(0)\n",
    "# creating word cloud for only those statements that are TRUE\n",
    "text_true = true_statements_dataset['statement'].values\n",
    "wordcloud_true = WordCloud(width=3000, height=2000, background_color='white',stopwords=STOPWORDS).generate(str(text_true))\n",
    "plt.imshow(wordcloud_true)\n",
    "plt.axis('off')\n",
    "plt.title(\"Word Cloud of statements that are TRUE\")\n",
    "plt.show()"
   ]
  },
  {
   "cell_type": "code",
   "execution_count": 18,
   "metadata": {},
   "outputs": [
    {
     "data": {
      "image/png": "[encoded data removed]",
      "text/plain": [
       "<Figure size 432x288 with 1 Axes>"
      ]
     },
     "metadata": {
      "needs_background": "light"
     },
     "output_type": "display_data"
    }
   ],
   "source": [
    "np.random.seed(0)\n",
    "# creating word cloud for or only those statements that are FAKE\n",
    "text_false = fake_statements_dataset['statement'].values\n",
    "wordcloud_false = WordCloud(width=3000, height=2000, background_color='white',stopwords=STOPWORDS).generate(str(text_false))\n",
    "plt.imshow(wordcloud_false)\n",
    "plt.axis('off')\n",
    "plt.title(\"Word Cloud of statements that are FALSE\")\n",
    "plt.show()"
   ]
  },
  {
   "cell_type": "markdown",
   "metadata": {},
   "source": [
    "### Exploring the 'speakers' who have given the statements in the LIAR dataset"
   ]
  },
  {
   "cell_type": "code",
   "execution_count": 19,
   "metadata": {},
   "outputs": [
    {
     "name": "stdout",
     "output_type": "stream",
     "text": [
      "The total number of speakers in the LIAR dataset is : 3318  \n",
      "\n",
      "Some sample speakers are:\n",
      " ['moveon', 'matt-lauer', 'donald-trump', 'candy-crowley', 'ted-cruz', 'rob-portman', 'barack-obama', 'alan-grayson', 'mitt-romney', 'joe-biden']\n"
     ]
    }
   ],
   "source": [
    "\"\"\"finding the total number of unique 'speakers' in the LIAR dataset\"\"\"\n",
    "speakers_data = df_raw.copy()\n",
    "speakers = speakers_data['speaker'].unique()\n",
    "\n",
    "print(\"The total number of speakers in the LIAR dataset is : %d  \" % len(speakers))\n",
    "print()\n",
    "print(\"Some sample speakers are:\\n\", speakers[:10].tolist())"
   ]
  },
  {
   "cell_type": "code",
   "execution_count": 20,
   "metadata": {},
   "outputs": [
    {
     "name": "stdout",
     "output_type": "stream",
     "text": [
      "There are 13 speakers who have made statements more than 50 times in the dataset\n",
      "\n",
      "Some of the speakers and the number of statements made by them are:\n",
      " speaker\n",
      "barack-obama       616\n",
      "bernie-s           107\n",
      "chain-email        178\n",
      "chris-christie     105\n",
      "donald-trump       344\n",
      "hillary-clinton    297\n",
      "john-mccain        189\n",
      "marco-rubio        153\n",
      "mitt-romney        216\n",
      "rick-perry         173\n",
      "Name: statement, dtype: int64\n"
     ]
    }
   ],
   "source": [
    "\n",
    "\"\"\"\"displaying all the speakers in exploratory plot will not be possible nor meaningful.\n",
    "            Hence finding the top speakers who have made frequent statements\"\"\"\n",
    "\n",
    "speakers_cts = speakers_data.groupby(\"speaker\").statement.count()\n",
    "speakers = speakers_cts[speakers_cts > 100] # speakers who have made more than 100 statements.\n",
    "print(\"There are %d speakers who have made statements more than 50 times in the dataset\" % len(speakers))\n",
    "print()\n",
    "print(\"Some of the speakers and the number of statements made by them are:\\n\", speakers[:10])"
   ]
  },
  {
   "cell_type": "code",
   "execution_count": 21,
   "metadata": {},
   "outputs": [],
   "source": [
    "#Limiting ourselves to only prominent speakers for visualization\n",
    "speakers_data = speakers_data[speakers_data['speaker'].isin(speakers.keys())]"
   ]
  },
  {
   "cell_type": "code",
   "execution_count": 22,
   "metadata": {},
   "outputs": [],
   "source": [
    "\"\"\"function to groupby the speakers by the class and count of statements spoken by them\"\"\"\n",
    "\n",
    "def class_counts(data, column):\n",
    "    return data.groupby([column,\"label\"]).agg({\"ID\" : \"count\"})\n"
   ]
  },
  {
   "cell_type": "markdown",
   "metadata": {},
   "source": [
    "#### Plot of top 13 speakers in the LIAR dataset labelled by class and count of statements they have given."
   ]
  },
  {
   "cell_type": "code",
   "execution_count": 23,
   "metadata": {},
   "outputs": [
    {
     "data": {
      "text/plain": [
       "Text(0.5, 1.0, 'Top 13 speakers in the LIAR dataset with count and class of statements made')"
      ]
     },
     "execution_count": 23,
     "metadata": {},
     "output_type": "execute_result"
    },
    {
     "data": {
      "image/png": "[encoded data removed]",
      "text/plain": [
       "<Figure size 1080x360 with 1 Axes>"
      ]
     },
     "metadata": {
      "needs_background": "light"
     },
     "output_type": "display_data"
    }
   ],
   "source": [
    "# stacked bar plot of speakrs with class and count of statements\n",
    "breakdown = class_counts(speakers_data, 'speaker')\n",
    "breakdown.unstack().plot(kind='bar', stacked=True, figsize=(15,5))\n",
    "plt.title(\"Top 13 speakers in the LIAR dataset with count and class of statements made\")"
   ]
  },
  {
   "cell_type": "code",
   "execution_count": 24,
   "metadata": {},
   "outputs": [],
   "source": [
    "# Function for Normalising the statements and the speakers for comparison purpose\n",
    "\n",
    "def normalize(data, column):\n",
    "    norm = data.reset_index()\n",
    "    norm = norm.set_index([column,'label'])['ID'].unstack(fill_value=0)\n",
    "\n",
    "    row_totals = norm.sum(axis=1)\n",
    "    for row in range(len(norm.index)):\n",
    "        norm.iloc[row]/= row_totals[row]\n",
    "\n",
    "    norm = norm.stack().reset_index(name='Percent').set_index([column, 'label'])\n",
    "    return norm"
   ]
  },
  {
   "cell_type": "markdown",
   "metadata": {},
   "source": [
    "#### Normalised plot of top 13 speakers in the LIAR dataset labelled type of statements they have given (for comparison)"
   ]
  },
  {
   "cell_type": "code",
   "execution_count": 25,
   "metadata": {},
   "outputs": [
    {
     "data": {
      "text/plain": [
       "Text(0.5, 1.0, 'Top 13 speakers in the LIAR dataset with count and class of statements made by them')"
      ]
     },
     "execution_count": 25,
     "metadata": {},
     "output_type": "execute_result"
    },
    {
     "data": {
      "image/png": "[encoded data removed]",
      "text/plain": [
       "<Figure size 1080x360 with 1 Axes>"
      ]
     },
     "metadata": {
      "needs_background": "light"
     },
     "output_type": "display_data"
    }
   ],
   "source": [
    "normalised_data = normalize(breakdown, 'speaker')\n",
    "normalised_data.unstack().plot(kind='bar', stacked=True, figsize=(15,5))\n",
    "plt.title(\"Top 13 speakers in the LIAR dataset with count and class of statements made by them\")"
   ]
  },
  {
   "cell_type": "markdown",
   "metadata": {},
   "source": [
    "From the above plot it can be seen that Facebook posts, Chain emails and Donald Trump have relatively higher number of 'pant-on_fire' fake statements compared to other speakers. We can also note that even though Obama made highest number of statements, his pant-on-fire statements are almost nill."
   ]
  },
  {
   "cell_type": "markdown",
   "metadata": {},
   "source": [
    "### Exploring the parties who have given statements in the LIAR dataset"
   ]
  },
  {
   "cell_type": "code",
   "execution_count": 26,
   "metadata": {},
   "outputs": [
    {
     "name": "stdout",
     "output_type": "stream",
     "text": [
      "The total number of parties in LIAR dataset are : 24\n",
      "\n",
      "Some  parties are:\n",
      " ['democrat', 'none', 'republican', 'organization', 'journalist', 'newsmaker', 'independent', 'libertarian', 'state-official', 'columnist', 'activist', 'tea-party-member', 'labor-leader', 'talk-show-host', 'ocean-state-tea-party-action', 'business-leader', 'county-commissioner', 'constitution-party', 'government-body', 'education-official', 'democratic-farmer-labor', 'green', 'Moderate', 'liberal-party-canada']\n"
     ]
    }
   ],
   "source": [
    "# finding total number of parties in the LIAR dataset\n",
    "parties_data = df_raw.copy()\n",
    "parties = parties_data['party'].unique()\n",
    "print(\"The total number of parties in LIAR dataset are : %d\" % len(parties))\n",
    "print()\n",
    "print(\"Some  parties are:\\n\", parties.tolist())"
   ]
  },
  {
   "cell_type": "code",
   "execution_count": 27,
   "metadata": {},
   "outputs": [
    {
     "name": "stdout",
     "output_type": "stream",
     "text": [
      "Number of parties or entities who have made more than 20 statements in the LIAR dataset : 12\n",
      "\n",
      "Some of the parties and number of statements made by them are :\n",
      " party\n",
      "activist          47\n",
      "columnist         45\n",
      "democrat        4150\n",
      "independent      182\n",
      "journalist        49\n",
      "libertarian       51\n",
      "newsmaker         66\n",
      "none            2185\n",
      "organization     265\n",
      "republican      5687\n",
      "Name: statement, dtype: int64\n"
     ]
    }
   ],
   "source": [
    "# limiting the parties to those which have made frequent statements in the dataset.\n",
    "parties_count = parties_data.groupby(\"party\").statement.count()\n",
    "parties = parties_count[parties_count > 20]     # more than 20 statements\n",
    "\n",
    "print(\"Number of parties or entities who have made more than 20 statements in the LIAR dataset : %d\" % len(parties))\n",
    "print()\n",
    "print(\"Some of the parties and number of statements made by them are :\\n\", parties[:10])"
   ]
  },
  {
   "cell_type": "code",
   "execution_count": 28,
   "metadata": {},
   "outputs": [],
   "source": [
    "## Limiting ourselves to the top 12 parties in the LIAR dataset\n",
    "\n",
    "parties_data = parties_data[parties_data['party'].isin(parties.keys())]"
   ]
  },
  {
   "cell_type": "markdown",
   "metadata": {},
   "source": [
    "####  Plot of top 12 parties in the LIAR dataset labelled type of statements they have given"
   ]
  },
  {
   "cell_type": "code",
   "execution_count": 29,
   "metadata": {},
   "outputs": [
    {
     "data": {
      "text/plain": [
       "Text(0.5, 1.0, 'Top 12 parties/entities in the LIAR dataset with count and class of statements made by them')"
      ]
     },
     "execution_count": 29,
     "metadata": {},
     "output_type": "execute_result"
    },
    {
     "data": {
      "image/png": "[encoded data removed]",
      "text/plain": [
       "<Figure size 1440x360 with 1 Axes>"
      ]
     },
     "metadata": {
      "needs_background": "light"
     },
     "output_type": "display_data"
    }
   ],
   "source": [
    "breakdown = class_counts(parties_data, 'party')\n",
    "breakdown.unstack().plot(kind='bar', stacked=True, figsize=(20,5))\n",
    "plt.title(\"Top 12 parties/entities in the LIAR dataset with count and class of statements made by them\")"
   ]
  },
  {
   "cell_type": "markdown",
   "metadata": {},
   "source": [
    "#### Normalised plot of top 12 parties in the LIAR dataset labelled type of statements they have given (for comparison)"
   ]
  },
  {
   "cell_type": "code",
   "execution_count": 30,
   "metadata": {},
   "outputs": [
    {
     "data": {
      "text/plain": [
       "Text(0.5, 1.0, 'Top 12 parties/entities in the LIAR dataset with count and class of statements made by them')"
      ]
     },
     "execution_count": 30,
     "metadata": {},
     "output_type": "execute_result"
    },
    {
     "data": {
      "image/png": "[encoded data removed]",
      "text/plain": [
       "<Figure size 1080x360 with 1 Axes>"
      ]
     },
     "metadata": {
      "needs_background": "light"
     },
     "output_type": "display_data"
    }
   ],
   "source": [
    "normalized_data = normalize(breakdown, 'party')\n",
    "normalized_data.unstack().plot(kind='bar', stacked=True, figsize=(15,5))\n",
    "plt.title(\"Top 12 parties/entities in the LIAR dataset with count and class of statements made by them\")"
   ]
  },
  {
   "cell_type": "markdown",
   "metadata": {},
   "source": [
    "# Using CountVectorizer for Extracting features from 'statements' in LIAR dataset"
   ]
  },
  {
   "cell_type": "code",
   "execution_count": 31,
   "metadata": {},
   "outputs": [],
   "source": [
    "# specifying features and labels\n",
    "X= df_raw['statement']\n",
    "y=df_raw['label']"
   ]
  },
  {
   "cell_type": "code",
   "execution_count": 32,
   "metadata": {},
   "outputs": [
    {
     "data": {
      "text/plain": [
       "['\"McCain opposes a woman\\'s right to choose.\"',\n",
       " 'The name Frank has risen in popularity by 20 percent since the debut of House of Cardson Netflix.',\n",
       " 'Says Ted Cruz never denied his father was photographedwith Lee Harvey Oswald.',\n",
       " 'Its been 14 years since a president or a vice president or a member of their family has not gone and attended at least an event at the Olympics.',\n",
       " 'In the year 2013, the Obama administration released 104,000 criminal illegal aliens. They released 196 murderers people with homicide convictions, who are here illegally.']"
      ]
     },
     "execution_count": 32,
     "metadata": {},
     "output_type": "execute_result"
    }
   ],
   "source": [
    "# sample statements\n",
    "X.head(5).tolist()"
   ]
  },
  {
   "cell_type": "code",
   "execution_count": 33,
   "metadata": {},
   "outputs": [
    {
     "data": {
      "text/plain": [
       "0           true\n",
       "1    barely-true\n",
       "2     pants-fire\n",
       "3           true\n",
       "4      half-true\n",
       "Name: label, dtype: object"
      ]
     },
     "execution_count": 33,
     "metadata": {},
     "output_type": "execute_result"
    }
   ],
   "source": [
    "#sample labels\n",
    "y.head(5)"
   ]
  },
  {
   "cell_type": "code",
   "execution_count": 34,
   "metadata": {},
   "outputs": [
    {
     "name": "stdout",
     "output_type": "stream",
     "text": [
      "10268 2568\n",
      "10268 2568\n"
     ]
    }
   ],
   "source": [
    "# specifying train and test split with ratio of 80:20\n",
    "X_train, X_test, y_train, y_test = train_test_split(X,y, test_size=0.2, random_state = 0, stratify=y)\n",
    "print(len(X_train), len(X_test))\n",
    "print(len(y_train), len(y_test))"
   ]
  },
  {
   "cell_type": "markdown",
   "metadata": {},
   "source": [
    "### Custom Pre - Processing and Tokenisation of the data"
   ]
  },
  {
   "cell_type": "code",
   "execution_count": 35,
   "metadata": {},
   "outputs": [
    {
     "data": {
      "text/plain": [
       "' function for decontracting the statements'"
      ]
     },
     "execution_count": 35,
     "metadata": {},
     "output_type": "execute_result"
    }
   ],
   "source": [
    "\n",
    "\"\"\" Regular expression for cleaning the statements\"\"\"\n",
    "\n",
    "hashtag_re = re.compile(r\"#\\w+\")\n",
    "mention_re = re.compile(r\"@\\w+\")\n",
    "url_re = re.compile(r\"(?:https?://)?(?:[-\\w]+\\.)+[a-zA-Z]{2,9}[-\\w/#~:;.?+=&%@~]*\")\n",
    "extras_re = re.compile(\"[.;:!\\'?,\\\"()\\[\\]]\")\n",
    "#apos_re = \"\\'[a-z]*\"\n",
    "#leftover_re = \"\\S+\"\n",
    "\n",
    "\"\"\" Preprocessing the text in the statements\"\"\"\n",
    "def preprocess(text):\n",
    "    p_text = hashtag_re.sub(\"[hashtag]\",text)\n",
    "    p_text = mention_re.sub(\"[mention]\",p_text)\n",
    "    p_text = extras_re.sub(\"\",p_text)\n",
    "    p_text = url_re.sub(\"[url]\",p_text)\n",
    "    p_text = ftfy.fix_text(p_text)\n",
    "    return p_text.lower()\n",
    "\n",
    "# regular expression for custom tokenisation\"\n",
    "tokenise_re = re.compile(r\"(\\[[^\\]]+\\]|[-'\\w]+|[^\\s\\w\\[']+)\") #([]|words|other non-space)\n",
    "\n",
    "# defining 3 types of tokenisation\n",
    "\n",
    "def custom_tokenise(text):\n",
    "    return tokenise_re.findall(text.lower())\n",
    "\n",
    "def Tokenizer(str_input):\n",
    "    words = re.sub(r\"[^A-Za-z0-9\\-]\", \" \", str_input).lower().split()\n",
    "    porter_stemmer=nltk.PorterStemmer()\n",
    "    words = [porter_stemmer.stem(word) for word in words]\n",
    "    return words\n",
    "\n",
    "\n",
    "def nltk_twitter_tokenise(text):\n",
    "    twtok = nltk.tokenize.TweetTokenizer()\n",
    "    return twtok.tokenize(text.lower())\n",
    "\n",
    "# stop words list set to english\n",
    "stopwords_list = stopwords.words('english') # stop word list\n",
    "\n",
    "\n",
    "\n",
    "\"\"\" function for decontracting the statements\"\"\"\n",
    "#def decontracted(phrase):\n",
    "   # phrase = re.sub(r\"won\\'t\", \"will not\", phrase)\n",
    "   # phrase = re.sub(r\"can\\'t\", \"can not\", phrase)\n",
    "   # phrase = re.sub(r\"n\\'t\", \" not\", phrase)\n",
    "   # phrase = re.sub(r\"\\'re\", \" are\", phrase)\n",
    "   # phrase = re.sub(r\"\\'s\", \" is\", phrase)\n",
    "   # phrase = re.sub(r\"\\'d\", \" would\", phrase)\n",
    "    #phrase = re.sub(r\"\\'ll\", \" will\", phrase)\n",
    "    #phrase = re.sub(r\"\\'t\", \" not\", phrase)\n",
    "    #phrase = re.sub(r\"\\'ve\", \" have\", phrase)\n",
    "   # phrase = re.sub(r\"\\'m\", \" am\", phrase)\n",
    "    #return phrase"
   ]
  },
  {
   "cell_type": "markdown",
   "metadata": {},
   "source": [
    "### Defining custom functions for displaying results of Classification"
   ]
  },
  {
   "cell_type": "code",
   "execution_count": 36,
   "metadata": {},
   "outputs": [],
   "source": [
    "# function for results of cross-validation\n",
    "def print_cv_scores_summary(name, scores):\n",
    "    print(\"{}: mean = {:.2f}%, sd = {:.2f}%, min = {:.2f}, max = {:.2f}\".format(name, scores.mean()*100, scores.std()*100, scores.min()*100, scores.max()*100))\n",
    "\n",
    "\n",
    "# fucntion for results of model fitting\n",
    "def print_scores():\n",
    "    print(\"Accuracy: \", accuracy_score(y_test, predictions))\n",
    "    print(classification_report(y_test, predictions))\n",
    "    print(confusion_matrix(y_test, predictions))\n",
    "    \n",
    "# function for displaying confusion matrix\n",
    "def confusion_matrix_heatmap(cm, index):\n",
    "    cmdf = pd.DataFrame(cm, index = index, columns=index)\n",
    "    dims = (10, 8)\n",
    "    fig, ax = plt.subplots(figsize=dims)\n",
    "    sns.heatmap(cmdf, annot=True, cmap=\"BuPu\", center=0, fmt='g')\n",
    "    ax.set_ylabel('Actual')    \n",
    "    ax.set_xlabel('Predicted')\n",
    "\n",
    "# function for displaying confusion matrix in percentage terms\n",
    "def confusion_matrix_percent_heatmap(cm, index):\n",
    "    cmdf = pd.DataFrame(cm, index = index, columns=index)\n",
    "    percents = cmdf.div(cmdf.sum(axis=1), axis=0)*100\n",
    "    dims = (10, 10)\n",
    "    fig, ax = plt.subplots(figsize=dims)\n",
    "    sns.heatmap(percents, annot=True, cmap=\"PiYG\", center=0, vmin=0, vmax=100)\n",
    "    ax.set_ylabel('Actual')    \n",
    "    ax.set_xlabel('Predicted')\n",
    "    cbar = ax.collections[0].colorbar\n",
    "    cbar.set_ticks([0, 25, 50, 75, 100])\n",
    "    cbar.set_ticklabels(['0%', '25%', '50%', '75%', '100%'])\n",
    "    \n",
    "#list(df_columns.columns))-list(df_raw['labels'])\"coolwarm\"'Blues'PiYG'BuPu'"
   ]
  },
  {
   "cell_type": "markdown",
   "metadata": {},
   "source": [
    "## Creating Pipeline with CountVectorizer with Custom preprocessing, Tokenisation, Stopwords, Normalistion (using TFIDTransformer), Feature selection and Logistic regression classifier"
   ]
  },
  {
   "cell_type": "code",
   "execution_count": 37,
   "metadata": {},
   "outputs": [],
   "source": [
    "model = Pipeline([\n",
    "    ('vectorizer', CountVectorizer(analyzer='word',preprocessor=preprocess,tokenizer=Tokenizer,stop_words=stopwords_list)),\n",
    "    ('norm2', TfidfTransformer(norm=None)),\n",
    "    ('selector', SelectKBest(chi2, k=1000)),\n",
    "    ('clf', LogisticRegression(solver='liblinear', random_state=0)),\n",
    "])"
   ]
  },
  {
   "cell_type": "code",
   "execution_count": 38,
   "metadata": {},
   "outputs": [
    {
     "name": "stdout",
     "output_type": "stream",
     "text": [
      "Accuracy:  0.24182242990654207\n",
      "              precision    recall  f1-score   support\n",
      "\n",
      " barely-true       0.25      0.17      0.20       422\n",
      "       false       0.22      0.40      0.28       502\n",
      "   half-true       0.24      0.25      0.25       528\n",
      " mostly-true       0.26      0.25      0.25       493\n",
      "  pants-fire       0.32      0.15      0.20       210\n",
      "        true       0.26      0.15      0.19       413\n",
      "\n",
      "    accuracy                           0.24      2568\n",
      "   macro avg       0.26      0.23      0.23      2568\n",
      "weighted avg       0.25      0.24      0.23      2568\n",
      "\n",
      "[[ 71 162  85  64  17  23]\n",
      " [ 59 202 109  76  18  38]\n",
      " [ 60 172 134  94  15  53]\n",
      " [ 32 158 120 121   9  53]\n",
      " [ 28  84  39  19  31   9]\n",
      " [ 29 146  75  93   8  62]]\n"
     ]
    }
   ],
   "source": [
    "# fitting the model\n",
    "model.fit(X_train, y_train)\n",
    "predictions = model.predict(X_test)\n",
    "print_scores() # using the predefined function to display results of the classification"
   ]
  },
  {
   "cell_type": "code",
   "execution_count": 39,
   "metadata": {},
   "outputs": [
    {
     "data": {
      "text/plain": [
       "Pipeline(steps=[('vectorizer',\n",
       "                 CountVectorizer(max_features=1000,\n",
       "                                 preprocessor=<function preprocess at 0x0000024E6991DAF0>,\n",
       "                                 stop_words=['i', 'me', 'my', 'myself', 'we',\n",
       "                                             'our', 'ours', 'ourselves', 'you',\n",
       "                                             \"you're\", \"you've\", \"you'll\",\n",
       "                                             \"you'd\", 'your', 'yours',\n",
       "                                             'yourself', 'yourselves', 'he',\n",
       "                                             'him', 'his', 'himself', 'she',\n",
       "                                             \"she's\", 'her', 'hers', 'herself',\n",
       "                                             'it', \"it's\", 'its', 'itself', ...],\n",
       "                                 tokenizer=<function Tokenizer at 0x0000024E6A0E78B0>)),\n",
       "                ('norm2', TfidfTransformer(norm=None)),\n",
       "                ('selector',\n",
       "                 SelectKBest(k=1000,\n",
       "                             score_func=<function chi2 at 0x0000024E677045E0>)),\n",
       "                ('clf',\n",
       "                 LogisticRegression(random_state=0, solver='liblinear'))])"
      ]
     },
     "execution_count": 39,
     "metadata": {},
     "output_type": "execute_result"
    }
   ],
   "source": [
    "# limiting the max features to 1000 and checking the model\n",
    "model.set_params(vectorizer__max_features=1000)"
   ]
  },
  {
   "cell_type": "code",
   "execution_count": 40,
   "metadata": {},
   "outputs": [
    {
     "name": "stdout",
     "output_type": "stream",
     "text": [
      "Accuracy:  0.23870716510903428\n",
      "              precision    recall  f1-score   support\n",
      "\n",
      " barely-true       0.23      0.20      0.22       422\n",
      "       false       0.25      0.30      0.27       502\n",
      "   half-true       0.24      0.24      0.24       528\n",
      " mostly-true       0.27      0.27      0.27       493\n",
      "  pants-fire       0.19      0.17      0.18       210\n",
      "        true       0.21      0.21      0.21       413\n",
      "\n",
      "    accuracy                           0.24      2568\n",
      "   macro avg       0.23      0.23      0.23      2568\n",
      "weighted avg       0.24      0.24      0.24      2568\n",
      "\n",
      "[[ 84 113  79  62  29  55]\n",
      " [ 70 149  92  71  48  72]\n",
      " [ 71 103 125 107  36  86]\n",
      " [ 63  86  91 132  22  99]\n",
      " [ 32  58  45  21  36  18]\n",
      " [ 39  87  90  88  22  87]]\n"
     ]
    }
   ],
   "source": [
    "model.fit(X_train, y_train)\n",
    "predictions = model.predict(X_test)\n",
    "print_scores()\n",
    "# the accuracy is reduced so reverting back without setting max features"
   ]
  },
  {
   "cell_type": "markdown",
   "metadata": {},
   "source": [
    "#### Using Binarizer for normalisation instead of TfidfTransformer (i.e. scale to 0 for not present or 1 for present at any frequency), this is useful when documents are shorts as 'statements' in LIAR dataset"
   ]
  },
  {
   "cell_type": "code",
   "execution_count": 41,
   "metadata": {},
   "outputs": [],
   "source": [
    "\n",
    "model = Pipeline([\n",
    "    ('vectorizer', CountVectorizer(analyzer='word',preprocessor=preprocess,tokenizer=Tokenizer,stop_words=stopwords_list)),\n",
    "    ('norm', Binarizer()),\n",
    "    ('clf', LogisticRegression(solver='liblinear', random_state=0)),\n",
    "])"
   ]
  },
  {
   "cell_type": "code",
   "execution_count": 42,
   "metadata": {},
   "outputs": [
    {
     "name": "stdout",
     "output_type": "stream",
     "text": [
      "Accuracy:  0.2472741433021807\n",
      "              precision    recall  f1-score   support\n",
      "\n",
      " barely-true       0.25      0.23      0.24       422\n",
      "       false       0.24      0.28      0.26       502\n",
      "   half-true       0.27      0.30      0.28       528\n",
      " mostly-true       0.25      0.25      0.25       493\n",
      "  pants-fire       0.24      0.14      0.17       210\n",
      "        true       0.23      0.21      0.22       413\n",
      "\n",
      "    accuracy                           0.25      2568\n",
      "   macro avg       0.24      0.23      0.24      2568\n",
      "weighted avg       0.25      0.25      0.25      2568\n",
      "\n",
      "[[ 98 100  94  60  23  47]\n",
      " [ 82 140  96  89  28  67]\n",
      " [ 67 100 157 103  19  82]\n",
      " [ 71  98 108 123   8  85]\n",
      " [ 41  57  46  21  29  16]\n",
      " [ 35  88  83 104  15  88]]\n"
     ]
    }
   ],
   "source": [
    "model.fit(X_train, y_train)\n",
    "predictions = model.predict(X_test)\n",
    "print_scores()\n"
   ]
  },
  {
   "cell_type": "code",
   "execution_count": 43,
   "metadata": {},
   "outputs": [
    {
     "data": {
      "image/png": "[encoded data removed]",
      "text/plain": [
       "<Figure size 720x576 with 2 Axes>"
      ]
     },
     "metadata": {
      "needs_background": "light"
     },
     "output_type": "display_data"
    }
   ],
   "source": [
    "confusion_matrix_heatmap(confusion_matrix(y_test,predictions), model.classes_)"
   ]
  },
  {
   "cell_type": "code",
   "execution_count": 44,
   "metadata": {},
   "outputs": [],
   "source": [
    "# code to view the selected features\n",
    "vectorizer = CountVectorizer(analyzer='word')\n",
    "selector = SelectKBest(chi2, k=100)\n",
    "feats = vectorizer.fit_transform(X_train)\n",
    "filtered = selector.fit_transform(feats, y_train)"
   ]
  },
  {
   "cell_type": "code",
   "execution_count": 45,
   "metadata": {},
   "outputs": [
    {
     "name": "stdout",
     "output_type": "stream",
     "text": [
      "['000', '10', '247', 'and', 'average', 'bachmann', 'barack', 'beliefs', 'blue', 'border', 'bulbs', 'care', 'country', 'cross', 'cut', 'debunked', 'duffy', 'face', 'georgia', 'gov', 'half', 'hillary', 'in', 'increased', 'jersey', 'jobs', 'kenyan', 'kloppenburgs', 'landrieu', 'last', 'less', 'lowest', 'lying', 'mcauliffe', 'mccain', 'meat', 'michelle', 'million', 'monument', 'more', 'mormon', 'muslim', 'muslims', 'nose', 'obama', 'obamacare', 'obamas', 'of', 'ops', 'oswald', 'outbreak', 'outlaws', 'percent', 'photographed', 'plan', 'poverty', 'president', 'prisons', 'protein', 'radar', 'rate', 'rep', 'reps', 'retiree', 'richest', 'riot', 'rugs', 'says', 'scheme', 'scott', 'sean', 'sharia', 'sic', 'since', 'socialists', 'society', 'spending', 'sporting', 'states', 'stimulus', 'supports', 'takeover', 'than', 'the', 'three', 'to', 'today', 'top', 'transactions', 'unelected', 'walker', 'wash', 'we', 'wic', 'will', 'wisconsin', 'wording', 'words', 'year', 'your']\n"
     ]
    }
   ],
   "source": [
    "from itertools import compress\n",
    "cols = selector.get_support()\n",
    "names = vectorizer.get_feature_names()\n",
    "\n",
    "print(list(compress(names,cols)))"
   ]
  },
  {
   "cell_type": "code",
   "execution_count": 46,
   "metadata": {},
   "outputs": [
    {
     "data": {
      "text/plain": [
       "Pipeline(steps=[('vectorizer',\n",
       "                 CountVectorizer(preprocessor=<function preprocess at 0x0000024E6991DAF0>,\n",
       "                                 stop_words=['i', 'me', 'my', 'myself', 'we',\n",
       "                                             'our', 'ours', 'ourselves', 'you',\n",
       "                                             \"you're\", \"you've\", \"you'll\",\n",
       "                                             \"you'd\", 'your', 'yours',\n",
       "                                             'yourself', 'yourselves', 'he',\n",
       "                                             'him', 'his', 'himself', 'she',\n",
       "                                             \"she's\", 'her', 'hers', 'herself',\n",
       "                                             'it', \"it's\", 'its', 'itself', ...],\n",
       "                                 tokenizer=<function Tokenizer at 0x0000024E6A0E78B0>)),\n",
       "                ('norm', Binarizer()), ('clf', MultinomialNB())])"
      ]
     },
     "execution_count": 46,
     "metadata": {},
     "output_type": "execute_result"
    }
   ],
   "source": [
    "# Using Multinomial Naive Bayes classifier\n",
    "model.set_params(clf=MultinomialNB())"
   ]
  },
  {
   "cell_type": "code",
   "execution_count": 47,
   "metadata": {},
   "outputs": [
    {
     "name": "stdout",
     "output_type": "stream",
     "text": [
      "Accuracy:  0.24805295950155765\n",
      "              precision    recall  f1-score   support\n",
      "\n",
      " barely-true       0.23      0.21      0.22       422\n",
      "       false       0.23      0.23      0.23       502\n",
      "   half-true       0.25      0.36      0.29       528\n",
      " mostly-true       0.27      0.33      0.30       493\n",
      "  pants-fire       0.30      0.08      0.13       210\n",
      "        true       0.24      0.15      0.18       413\n",
      "\n",
      "    accuracy                           0.25      2568\n",
      "   macro avg       0.25      0.23      0.23      2568\n",
      "weighted avg       0.25      0.25      0.24      2568\n",
      "\n",
      "[[ 90  93 122  73  12  32]\n",
      " [ 84 117 140 100  12  49]\n",
      " [ 70  93 191 115  10  49]\n",
      " [ 62  73 144 161   3  50]\n",
      " [ 43  60  54  24  17  12]\n",
      " [ 36  68 125 120   3  61]]\n"
     ]
    }
   ],
   "source": [
    "model.fit(X_train, y_train)\n",
    "predictions = model.predict(X_test)\n",
    "print_scores()"
   ]
  },
  {
   "cell_type": "code",
   "execution_count": 48,
   "metadata": {},
   "outputs": [
    {
     "name": "stdout",
     "output_type": "stream",
     "text": [
      "Accuracy:  0.23325545171339565\n",
      "              precision    recall  f1-score   support\n",
      "\n",
      " barely-true       0.20      0.25      0.22       422\n",
      "       false       0.24      0.28      0.26       502\n",
      "   half-true       0.27      0.27      0.27       528\n",
      " mostly-true       0.25      0.22      0.23       493\n",
      "  pants-fire       0.21      0.16      0.18       210\n",
      "        true       0.22      0.17      0.19       413\n",
      "\n",
      "    accuracy                           0.23      2568\n",
      "   macro avg       0.23      0.22      0.23      2568\n",
      "weighted avg       0.23      0.23      0.23      2568\n",
      "\n",
      "[[104 108  88  51  26  45]\n",
      " [117 141  74  74  39  57]\n",
      " [105  94 141  93  31  64]\n",
      " [ 94  98 107 109  11  74]\n",
      " [ 53  58  33  18  33  15]\n",
      " [ 59  98  80  90  15  71]]\n"
     ]
    }
   ],
   "source": [
    "# Fitting C-Support Vector Classifier\n",
    "model.set_params(clf=svm.SVC(C=1.0, kernel='linear', degree=3, gamma='auto',random_state=1000))\n",
    "model.fit(X_train, y_train)\n",
    "predictions = model.predict(X_test)\n",
    "print_scores()"
   ]
  },
  {
   "cell_type": "code",
   "execution_count": 49,
   "metadata": {},
   "outputs": [
    {
     "name": "stdout",
     "output_type": "stream",
     "text": [
      "Accuracy:  0.23208722741433022\n",
      "              precision    recall  f1-score   support\n",
      "\n",
      " barely-true       0.20      0.18      0.19       422\n",
      "       false       0.27      0.32      0.30       502\n",
      "   half-true       0.24      0.24      0.24       528\n",
      " mostly-true       0.24      0.25      0.25       493\n",
      "  pants-fire       0.15      0.13      0.14       210\n",
      "        true       0.21      0.20      0.20       413\n",
      "\n",
      "    accuracy                           0.23      2568\n",
      "   macro avg       0.22      0.22      0.22      2568\n",
      "weighted avg       0.23      0.23      0.23      2568\n",
      "\n",
      "[[ 76 103  91  72  28  52]\n",
      " [ 80 162  88  77  36  59]\n",
      " [ 67 111 126 108  36  80]\n",
      " [ 60  99  89 124  27  94]\n",
      " [ 36  49  37  39  27  22]\n",
      " [ 55  71  90  91  25  81]]\n"
     ]
    }
   ],
   "source": [
    "# fitting Decision tree classifier\n",
    "decision_tree=tree.DecisionTreeClassifier(random_state=1000)\n",
    "model.set_params(clf=decision_tree)\n",
    "model.fit(X_train, y_train)\n",
    "predictions = model.predict(X_test)\n",
    "print_scores()"
   ]
  },
  {
   "cell_type": "code",
   "execution_count": 50,
   "metadata": {},
   "outputs": [
    {
     "name": "stdout",
     "output_type": "stream",
     "text": [
      "Accuracy:  0.25272585669781933\n",
      "              precision    recall  f1-score   support\n",
      "\n",
      " barely-true       0.24      0.14      0.18       422\n",
      "       false       0.25      0.44      0.32       502\n",
      "   half-true       0.26      0.26      0.26       528\n",
      " mostly-true       0.26      0.29      0.27       493\n",
      "  pants-fire       0.42      0.10      0.17       210\n",
      "        true       0.21      0.15      0.18       413\n",
      "\n",
      "    accuracy                           0.25      2568\n",
      "   macro avg       0.27      0.23      0.23      2568\n",
      "weighted avg       0.26      0.25      0.24      2568\n",
      "\n",
      "[[ 59 149  99  75   7  33]\n",
      " [ 50 223  94  73  10  52]\n",
      " [ 56 146 139 120   6  61]\n",
      " [ 35 132 100 142   6  78]\n",
      " [ 25  85  38  27  22  13]\n",
      " [ 24 146  70 107   2  64]]\n"
     ]
    }
   ],
   "source": [
    "# fitting Random forest classifier\n",
    "model.set_params(clf=RandomForestClassifier(random_state=1000))\n",
    "model.fit(X_train, y_train)\n",
    "predictions = model.predict(X_test)\n",
    "print_scores()"
   ]
  },
  {
   "cell_type": "code",
   "execution_count": 51,
   "metadata": {},
   "outputs": [
    {
     "name": "stdout",
     "output_type": "stream",
     "text": [
      "[23:12:37] WARNING: C:/Users/Administrator/workspace/xgboost-win64_release_1.3.0/src/learner.cc:1061: Starting in XGBoost 1.3.0, the default evaluation metric used with the objective 'multi:softprob' was changed from 'merror' to 'mlogloss'. Explicitly set eval_metric if you'd like to restore the old behavior.\n",
      "Accuracy:  0.23870716510903428\n",
      "              precision    recall  f1-score   support\n",
      "\n",
      " barely-true       0.21      0.11      0.15       422\n",
      "       false       0.23      0.43      0.30       502\n",
      "   half-true       0.25      0.29      0.27       528\n",
      " mostly-true       0.24      0.26      0.25       493\n",
      "  pants-fire       0.29      0.05      0.09       210\n",
      "        true       0.24      0.13      0.17       413\n",
      "\n",
      "    accuracy                           0.24      2568\n",
      "   macro avg       0.24      0.21      0.20      2568\n",
      "weighted avg       0.24      0.24      0.22      2568\n",
      "\n",
      "[[ 47 159 106  81   6  23]\n",
      " [ 49 218 104  88   9  34]\n",
      " [ 51 161 152 106   8  50]\n",
      " [ 30 139 128 130   2  64]\n",
      " [ 25 111  34  25  11   4]\n",
      " [ 20 142  85 109   2  55]]\n"
     ]
    }
   ],
   "source": [
    "# fitting X-gradient boost algorithm\n",
    "model.set_params(clf=XGBClassifier(max_depth=3, n_estimators=300, learning_rate=0.1, random_state=0))\n",
    "model.fit(X_train, y_train)\n",
    "predictions = model.predict(X_test)\n",
    "print_scores()"
   ]
  },
  {
   "cell_type": "markdown",
   "metadata": {},
   "source": [
    "## Cross validating the best models from CountVectorizer Pipeline - Logistic regression and Multinomial Guassian NB"
   ]
  },
  {
   "cell_type": "code",
   "execution_count": 52,
   "metadata": {},
   "outputs": [
    {
     "data": {
      "text/plain": [
       "Pipeline(steps=[('vectorizer',\n",
       "                 CountVectorizer(preprocessor=<function preprocess at 0x0000024E6991DAF0>,\n",
       "                                 stop_words=['i', 'me', 'my', 'myself', 'we',\n",
       "                                             'our', 'ours', 'ourselves', 'you',\n",
       "                                             \"you're\", \"you've\", \"you'll\",\n",
       "                                             \"you'd\", 'your', 'yours',\n",
       "                                             'yourself', 'yourselves', 'he',\n",
       "                                             'him', 'his', 'himself', 'she',\n",
       "                                             \"she's\", 'her', 'hers', 'herself',\n",
       "                                             'it', \"it's\", 'its', 'itself', ...],\n",
       "                                 tokenizer=<function Tokenizer at 0x0000024E6A0E78B0>)),\n",
       "                ('norm', Binarizer()),\n",
       "                ('clf',\n",
       "                 LogisticRegression(random_state=0, solver='liblinear'))])"
      ]
     },
     "execution_count": 52,
     "metadata": {},
     "output_type": "execute_result"
    }
   ],
   "source": [
    "model.set_params(clf= LogisticRegression(solver='liblinear', random_state=0))"
   ]
  },
  {
   "cell_type": "code",
   "execution_count": 53,
   "metadata": {},
   "outputs": [],
   "source": [
    "\n",
    "cv_scores = cross_validate(model, X, y, \n",
    "                           cv=StratifiedKFold(n_splits=5, random_state=None), \n",
    "                           return_train_score=True, \n",
    "                           scoring=['accuracy', 'precision_weighted', 'recall_weighted', 'f1_weighted']\n",
    "                          )"
   ]
  },
  {
   "cell_type": "code",
   "execution_count": 54,
   "metadata": {},
   "outputs": [
    {
     "name": "stdout",
     "output_type": "stream",
     "text": [
      "Accuracy: mean = 24.21%, sd = 1.01%, min = 22.94, max = 25.40\n",
      "Precision: mean = 24.20%, sd = 1.01%, min = 22.88, max = 25.37\n",
      "Recall: mean = 24.21%, sd = 1.01%, min = 22.94, max = 25.40\n",
      "F1: mean = 24.00%, sd = 1.02%, min = 22.77, max = 25.20\n"
     ]
    }
   ],
   "source": [
    "print_cv_scores_summary(\"Accuracy\", cv_scores['test_accuracy'])\n",
    "print_cv_scores_summary(\"Precision\", cv_scores['test_precision_weighted'])\n",
    "print_cv_scores_summary(\"Recall\", cv_scores['test_recall_weighted'])\n",
    "print_cv_scores_summary(\"F1\", cv_scores['test_f1_weighted'])"
   ]
  },
  {
   "cell_type": "code",
   "execution_count": 55,
   "metadata": {},
   "outputs": [
    {
     "data": {
      "text/plain": [
       "Pipeline(steps=[('vectorizer',\n",
       "                 CountVectorizer(preprocessor=<function preprocess at 0x0000024E6991DAF0>,\n",
       "                                 stop_words=['i', 'me', 'my', 'myself', 'we',\n",
       "                                             'our', 'ours', 'ourselves', 'you',\n",
       "                                             \"you're\", \"you've\", \"you'll\",\n",
       "                                             \"you'd\", 'your', 'yours',\n",
       "                                             'yourself', 'yourselves', 'he',\n",
       "                                             'him', 'his', 'himself', 'she',\n",
       "                                             \"she's\", 'her', 'hers', 'herself',\n",
       "                                             'it', \"it's\", 'its', 'itself', ...],\n",
       "                                 tokenizer=<function Tokenizer at 0x0000024E6A0E78B0>)),\n",
       "                ('norm', Binarizer()), ('clf', MultinomialNB())])"
      ]
     },
     "execution_count": 55,
     "metadata": {},
     "output_type": "execute_result"
    }
   ],
   "source": [
    "model.set_params(clf=MultinomialNB())"
   ]
  },
  {
   "cell_type": "code",
   "execution_count": 56,
   "metadata": {},
   "outputs": [],
   "source": [
    "cv_scores = cross_validate(model, X, y, \n",
    "                           cv=StratifiedKFold(n_splits=5, random_state=None), \n",
    "                           return_train_score=False, \n",
    "                           scoring=['accuracy', 'precision_weighted', 'recall_weighted', 'f1_weighted']\n",
    "                          )"
   ]
  },
  {
   "cell_type": "code",
   "execution_count": 57,
   "metadata": {},
   "outputs": [
    {
     "name": "stdout",
     "output_type": "stream",
     "text": [
      "Accuracy: mean = 24.32%, sd = 0.65%, min = 23.61, max = 25.32\n",
      "Precision: mean = 24.46%, sd = 0.77%, min = 23.40, max = 25.28\n",
      "Recall: mean = 24.32%, sd = 0.65%, min = 23.61, max = 25.32\n",
      "F1: mean = 23.42%, sd = 0.65%, min = 22.73, max = 24.42\n"
     ]
    }
   ],
   "source": [
    "print_cv_scores_summary(\"Accuracy\", cv_scores['test_accuracy'])\n",
    "print_cv_scores_summary(\"Precision\", cv_scores['test_precision_weighted'])\n",
    "print_cv_scores_summary(\"Recall\", cv_scores['test_recall_weighted'])\n",
    "print_cv_scores_summary(\"F1\", cv_scores['test_f1_weighted'])"
   ]
  },
  {
   "cell_type": "markdown",
   "metadata": {},
   "source": [
    "### Replacing 'word' with char_wb(which counts characters within words) and ngrams range of 1-3 in the pipeline."
   ]
  },
  {
   "cell_type": "code",
   "execution_count": 58,
   "metadata": {},
   "outputs": [],
   "source": [
    "model = Pipeline([\n",
    "    ('vectorizer', CountVectorizer(analyzer='char_wb',preprocessor=preprocess,tokenizer=Tokenizer,stop_words=stopwords_list, ngram_range=(1,3))),\n",
    "    ('norm', Binarizer()),\n",
    "    ('clf', LogisticRegression(solver='liblinear', random_state=0)),\n",
    "])"
   ]
  },
  {
   "cell_type": "code",
   "execution_count": 59,
   "metadata": {},
   "outputs": [
    {
     "name": "stdout",
     "output_type": "stream",
     "text": [
      "Accuracy:  0.21378504672897197\n",
      "              precision    recall  f1-score   support\n",
      "\n",
      " barely-true       0.18      0.18      0.18       422\n",
      "       false       0.22      0.24      0.23       502\n",
      "   half-true       0.25      0.26      0.25       528\n",
      " mostly-true       0.24      0.25      0.25       493\n",
      "  pants-fire       0.15      0.12      0.13       210\n",
      "        true       0.19      0.17      0.18       413\n",
      "\n",
      "    accuracy                           0.21      2568\n",
      "   macro avg       0.20      0.20      0.20      2568\n",
      "weighted avg       0.21      0.21      0.21      2568\n",
      "\n",
      "[[ 77  87 100  74  31  53]\n",
      " [105 119  87  77  48  66]\n",
      " [ 82  97 136 103  25  85]\n",
      " [ 72  79 115 121  22  84]\n",
      " [ 39  57  41  27  26  20]\n",
      " [ 56  93  75  92  27  70]]\n"
     ]
    }
   ],
   "source": [
    "model.fit(X_train, y_train)\n",
    "predictions = model.predict(X_test)\n",
    "print_scores()\n",
    "\n"
   ]
  },
  {
   "cell_type": "code",
   "execution_count": 60,
   "metadata": {},
   "outputs": [
    {
     "name": "stdout",
     "output_type": "stream",
     "text": [
      "Accuracy:  0.24182242990654207\n",
      "              precision    recall  f1-score   support\n",
      "\n",
      " barely-true       0.22      0.21      0.22       422\n",
      "       false       0.24      0.28      0.26       502\n",
      "   half-true       0.28      0.23      0.25       528\n",
      " mostly-true       0.26      0.27      0.26       493\n",
      "  pants-fire       0.20      0.25      0.22       210\n",
      "        true       0.24      0.20      0.22       413\n",
      "\n",
      "    accuracy                           0.24      2568\n",
      "   macro avg       0.24      0.24      0.24      2568\n",
      "weighted avg       0.24      0.24      0.24      2568\n",
      "\n",
      "[[ 89 107  67  74  47  38]\n",
      " [ 81 140  76  77  71  57]\n",
      " [ 76 104 122 117  41  68]\n",
      " [ 65  93  83 134  31  87]\n",
      " [ 40  58  24  18  53  17]\n",
      " [ 48  90  63 102  27  83]]\n"
     ]
    }
   ],
   "source": [
    "model.set_params(clf=MultinomialNB())\n",
    "model.fit(X_train, y_train)\n",
    "predictions = model.predict(X_test)\n",
    "print_scores()\n"
   ]
  },
  {
   "cell_type": "code",
   "execution_count": 61,
   "metadata": {},
   "outputs": [
    {
     "name": "stdout",
     "output_type": "stream",
     "text": [
      "Accuracy:  0.2044392523364486\n",
      "              precision    recall  f1-score   support\n",
      "\n",
      " barely-true       0.16      0.23      0.19       422\n",
      "       false       0.23      0.25      0.24       502\n",
      "   half-true       0.24      0.23      0.23       528\n",
      " mostly-true       0.23      0.19      0.21       493\n",
      "  pants-fire       0.15      0.14      0.15       210\n",
      "        true       0.19      0.14      0.16       413\n",
      "\n",
      "    accuracy                           0.20      2568\n",
      "   macro avg       0.20      0.20      0.20      2568\n",
      "weighted avg       0.21      0.20      0.20      2568\n",
      "\n",
      "[[ 96  98  84  73  36  35]\n",
      " [135 126  74  69  45  53]\n",
      " [121 104 121  85  32  65]\n",
      " [102  92 106  95  26  72]\n",
      " [ 57  51  35  22  30  15]\n",
      " [ 79  89  89  70  29  57]]\n"
     ]
    }
   ],
   "source": [
    "model.set_params(clf=svm.SVC(C=1.0, kernel='linear', degree=3, gamma='auto',random_state=1000))\n",
    "model.fit(X_train, y_train)\n",
    "predictions = model.predict(X_test)\n",
    "print_scores()"
   ]
  },
  {
   "cell_type": "code",
   "execution_count": 62,
   "metadata": {},
   "outputs": [
    {
     "name": "stdout",
     "output_type": "stream",
     "text": [
      "Accuracy:  0.2091121495327103\n",
      "              precision    recall  f1-score   support\n",
      "\n",
      " barely-true       0.18      0.19      0.18       422\n",
      "       false       0.26      0.26      0.26       502\n",
      "   half-true       0.24      0.24      0.24       528\n",
      " mostly-true       0.20      0.21      0.21       493\n",
      "  pants-fire       0.10      0.10      0.10       210\n",
      "        true       0.20      0.18      0.19       413\n",
      "\n",
      "    accuracy                           0.21      2568\n",
      "   macro avg       0.20      0.20      0.20      2568\n",
      "weighted avg       0.21      0.21      0.21      2568\n",
      "\n",
      "[[ 79  75  89  82  39  58]\n",
      " [ 80 132 100  93  41  56]\n",
      " [108  92 128  98  28  74]\n",
      " [ 81  88  90 105  43  86]\n",
      " [ 41  39  49  43  20  18]\n",
      " [ 57  82  77  93  31  73]]\n"
     ]
    }
   ],
   "source": [
    "decision_tree=tree.DecisionTreeClassifier(random_state=1000)\n",
    "model.set_params(clf=decision_tree)\n",
    "model.fit(X_train, y_train)\n",
    "predictions = model.predict(X_test)\n",
    "print_scores()"
   ]
  },
  {
   "cell_type": "code",
   "execution_count": 63,
   "metadata": {},
   "outputs": [
    {
     "name": "stdout",
     "output_type": "stream",
     "text": [
      "Accuracy:  0.2632398753894081\n",
      "              precision    recall  f1-score   support\n",
      "\n",
      " barely-true       0.27      0.18      0.22       422\n",
      "       false       0.27      0.41      0.33       502\n",
      "   half-true       0.24      0.33      0.28       528\n",
      " mostly-true       0.26      0.31      0.28       493\n",
      "  pants-fire       0.41      0.03      0.06       210\n",
      "        true       0.29      0.14      0.19       413\n",
      "\n",
      "    accuracy                           0.26      2568\n",
      "   macro avg       0.29      0.23      0.23      2568\n",
      "weighted avg       0.28      0.26      0.25      2568\n",
      "\n",
      "[[ 78 120 120  79   4  21]\n",
      " [ 60 207 126  85   3  21]\n",
      " [ 63 125 176 128   1  35]\n",
      " [ 28 114 143 151   1  56]\n",
      " [ 26  79  57  35   7   6]\n",
      " [ 35 119 100 101   1  57]]\n"
     ]
    }
   ],
   "source": [
    "model.set_params(clf=RandomForestClassifier(random_state=1000))\n",
    "model.fit(X_train, y_train)\n",
    "predictions = model.predict(X_test)\n",
    "print_scores()"
   ]
  },
  {
   "cell_type": "code",
   "execution_count": 64,
   "metadata": {},
   "outputs": [
    {
     "name": "stdout",
     "output_type": "stream",
     "text": [
      "[23:26:19] WARNING: C:/Users/Administrator/workspace/xgboost-win64_release_1.3.0/src/learner.cc:1061: Starting in XGBoost 1.3.0, the default evaluation metric used with the objective 'multi:softprob' was changed from 'merror' to 'mlogloss'. Explicitly set eval_metric if you'd like to restore the old behavior.\n",
      "Accuracy:  0.2542834890965732\n",
      "              precision    recall  f1-score   support\n",
      "\n",
      " barely-true       0.25      0.15      0.19       422\n",
      "       false       0.25      0.43      0.32       502\n",
      "   half-true       0.27      0.34      0.30       528\n",
      " mostly-true       0.24      0.26      0.25       493\n",
      "  pants-fire       0.21      0.04      0.07       210\n",
      "        true       0.26      0.15      0.19       413\n",
      "\n",
      "    accuracy                           0.25      2568\n",
      "   macro avg       0.25      0.23      0.22      2568\n",
      "weighted avg       0.25      0.25      0.24      2568\n",
      "\n",
      "[[ 63 126 125  80   8  20]\n",
      " [ 52 215  97  87  15  36]\n",
      " [ 46 145 177 106   5  49]\n",
      " [ 42 140 121 126   4  60]\n",
      " [ 29  87  42  33   9  10]\n",
      " [ 25 133  94  96   2  63]]\n"
     ]
    }
   ],
   "source": [
    "model.set_params(clf=XGBClassifier(max_depth=3, n_estimators=300, learning_rate=0.1, random_state=0))\n",
    "model.fit(X_train, y_train)\n",
    "predictions = model.predict(X_test)\n",
    "print_scores()"
   ]
  },
  {
   "cell_type": "markdown",
   "metadata": {},
   "source": [
    "## Grid search CV with top_k from chi squared feature selection set to different values and top 2 performing classifiers with CountVectorizer "
   ]
  },
  {
   "cell_type": "code",
   "execution_count": null,
   "metadata": {},
   "outputs": [],
   "source": [
    "model = Pipeline([\n",
    "    ('vectorizer', CountVectorizer(analyzer='word',preprocessor=preprocess,tokenizer=Tokenizer,stop_words=stopwords_list, ngram_range=(1,3))),\n",
    "    ('norm', Binarizer()),\n",
    "    ('selector', SelectKBest(score_func = chi2)),\n",
    "    ('clf', LogisticRegression(solver='liblinear', random_state=None)),\n",
    "])\n",
    "\n",
    "search = GridSearchCV(model, cv=StratifiedKFold(n_splits=5, random_state=None), \n",
    "                      return_train_score=False, \n",
    "                      scoring=['accuracy', 'precision_weighted', 'recall_weighted', 'f1_weighted'],\n",
    "                      refit = 'f1_weighted',\n",
    "                      param_grid={\n",
    "                          'selector__k': [10, 50, 100, 250, 500, 1000],\n",
    "                          'clf': [MultinomialNB(), XGBClassifier(max_depth=3, n_estimators=300, learning_rate=0.1, random_state=None)],\n",
    "                      })\n",
    "\n",
    "search.fit(X_train, y_train)"
   ]
  },
  {
   "cell_type": "code",
   "execution_count": null,
   "metadata": {},
   "outputs": [],
   "source": [
    "pd.DataFrame(search.cv_results_)"
   ]
  },
  {
   "cell_type": "code",
   "execution_count": null,
   "metadata": {},
   "outputs": [],
   "source": [
    "# results of the best fit classifier\n",
    "predictions = search.predict(X_test)\n",
    "\n",
    "print(\"Accuracy: \", accuracy_score(y_test, predictions))\n",
    "print(classification_report(y_test, predictions))\n",
    "print(confusion_matrix(y_test, predictions))\n",
    "\n",
    "confusion_matrix_heatmap(confusion_matrix(y_test,predictions), search.classes_)"
   ]
  },
  {
   "cell_type": "code",
   "execution_count": null,
   "metadata": {},
   "outputs": [],
   "source": [
    "print(search.best_estimator_ )"
   ]
  },
  {
   "cell_type": "code",
   "execution_count": null,
   "metadata": {},
   "outputs": [],
   "source": [
    "search.best_score_"
   ]
  },
  {
   "cell_type": "code",
   "execution_count": null,
   "metadata": {},
   "outputs": [],
   "source": [
    "print(search.best_params_)"
   ]
  },
  {
   "cell_type": "code",
   "execution_count": null,
   "metadata": {},
   "outputs": [],
   "source": [
    "print(search.scorer_)"
   ]
  },
  {
   "cell_type": "code",
   "execution_count": null,
   "metadata": {},
   "outputs": [],
   "source": []
  },
  {
   "cell_type": "markdown",
   "metadata": {},
   "source": [
    "## Creating Pipeline with TFID Vectorizer along with Feature Union of 'total words' in the 'statements'\n"
   ]
  },
  {
   "cell_type": "markdown",
   "metadata": {},
   "source": [
    "TF-IDF - stands for “Term Frequency — Inverse Document”. Term Frequency summarizes how often a given word appears within a document.Inverse Document Frequency scales words that appear a lot across documents.TF-IDF highlight words that are more interesting, e.g. frequent in a document but not across documents."
   ]
  },
  {
   "cell_type": "markdown",
   "metadata": {},
   "source": [
    "However in this instance we use feature union as well by incorporating the total words in each sentence as another feature. We build a custom transformer with two classes for features in the statements and the total number of words in the statements. By setting min\\_df to 0.25 and max\\_df to 0.75 we restrict the terms in the vocabulary based on document frequency"
   ]
  },
  {
   "cell_type": "code",
   "execution_count": null,
   "metadata": {},
   "outputs": [],
   "source": [
    "from sklearn.base import BaseEstimator, TransformerMixin\n",
    "class TextSelector(BaseEstimator, TransformerMixin):\n",
    "    def __init__(self, field):\n",
    "        self.field = field\n",
    "    def fit(self, X, y=None):\n",
    "        return self\n",
    "    def transform(self, X):\n",
    "        return X[self.field]\n",
    "class NumberSelector(BaseEstimator, TransformerMixin):\n",
    "    def __init__(self, field):\n",
    "        self.field = field\n",
    "    def fit(self, X, y=None):\n",
    "        return self\n",
    "    def transform(self, X):\n",
    "        return X[[self.field]]"
   ]
  },
  {
   "cell_type": "code",
   "execution_count": null,
   "metadata": {},
   "outputs": [],
   "source": [
    "df_raw_tfid= df_raw.copy()"
   ]
  },
  {
   "cell_type": "code",
   "execution_count": null,
   "metadata": {},
   "outputs": [],
   "source": [
    "df_raw_tfid.head(2)"
   ]
  },
  {
   "cell_type": "code",
   "execution_count": null,
   "metadata": {},
   "outputs": [],
   "source": [
    "header_list=[\"index\",\"ID\", \"label\", \"statement\",\"TotalWords\",\"Lemmatised_words\", \"subject\", \"speaker\", \"job\", \"state\", \"party\", \"barely_true_cts\",\n",
    "        \"false_cts\", \"half_true_cts\", \"mostly_true_cts\", \"pants_on_fire_cts\", \"context\"]"
   ]
  },
  {
   "cell_type": "code",
   "execution_count": null,
   "metadata": {},
   "outputs": [],
   "source": [
    "df_raw_tfid = df_raw_tfid.reindex(columns = header_list) "
   ]
  },
  {
   "cell_type": "code",
   "execution_count": null,
   "metadata": {},
   "outputs": [],
   "source": [
    "# creating new column to hold total number of words in the statements and calculating the total words\n",
    "df_raw_tfid['TotalWords'] = df_raw_tfid['statement'].str.split().str.len()"
   ]
  },
  {
   "cell_type": "code",
   "execution_count": null,
   "metadata": {},
   "outputs": [],
   "source": [
    "df_raw_tfid.head(2)"
   ]
  },
  {
   "cell_type": "code",
   "execution_count": null,
   "metadata": {},
   "outputs": [],
   "source": [
    "X = df_raw_tfid[['statement', 'TotalWords']]\n",
    "\n",
    "Y = df_raw_tfid['label']"
   ]
  },
  {
   "cell_type": "code",
   "execution_count": null,
   "metadata": {},
   "outputs": [],
   "source": [
    "X_train, X_test, y_train, y_test = train_test_split(X, Y, test_size=0.25)"
   ]
  },
  {
   "cell_type": "markdown",
   "metadata": {},
   "source": [
    "## Creating the pipeline with TFIDVectorizer and feature union of total words in statements"
   ]
  },
  {
   "cell_type": "code",
   "execution_count": null,
   "metadata": {},
   "outputs": [],
   "source": [
    "classifier = Pipeline([\n",
    "    ('features', FeatureUnion([\n",
    "        ('text', Pipeline([\n",
    "            ('colext', TextSelector('statement')),\n",
    "            ('tfidf', TfidfVectorizer(analyzer='word',preprocessor=preprocess, tokenizer=Tokenizer, stop_words=stopwords_list,\n",
    "                     min_df=.0025, max_df=0.25, ngram_range=(1,3))),\n",
    "            ('svd', TruncatedSVD(algorithm='randomized', n_components=300)), #for XGB\n",
    "        ])),\n",
    "        ('words', Pipeline([\n",
    "            ('wordext', NumberSelector('TotalWords')),\n",
    "            ('wscaler', StandardScaler()),\n",
    "        ])),\n",
    "    ])),\n",
    "    ('clf', LogisticRegression(solver='liblinear', random_state=0)),\n",
    "    ])\n",
    "\n"
   ]
  },
  {
   "cell_type": "code",
   "execution_count": null,
   "metadata": {},
   "outputs": [],
   "source": [
    "# logistic regression\n",
    "classifier.fit(X_train, y_train)\n",
    "predictions = classifier.predict(X_test)\n",
    "print_scores()\n",
    "\n"
   ]
  },
  {
   "cell_type": "code",
   "execution_count": null,
   "metadata": {},
   "outputs": [],
   "source": [
    "confusion_matrix_heatmap(confusion_matrix(y_test, predictions), classifier.classes_)"
   ]
  },
  {
   "cell_type": "code",
   "execution_count": null,
   "metadata": {},
   "outputs": [],
   "source": [
    "#becasue multinominal naive baiese deosnt fit\n",
    "classifier.set_params(clf=GaussianNB())\n",
    "classifier.fit(X_train, y_train)\n",
    "predictions = classifier.predict(X_test)\n",
    "print_scores()"
   ]
  },
  {
   "cell_type": "code",
   "execution_count": null,
   "metadata": {},
   "outputs": [],
   "source": [
    "classifier.set_params(clf=svm.SVC(C=1.0, kernel='linear', degree=3, gamma='auto',random_state=1000))\n",
    "classifier.fit(X_train, y_train)\n",
    "predictions = classifier.predict(X_test)\n",
    "print_scores()"
   ]
  },
  {
   "cell_type": "code",
   "execution_count": null,
   "metadata": {},
   "outputs": [],
   "source": [
    "#highest accuracy \n",
    "confusion_matrix_heatmap(confusion_matrix(y_test,predictions), classifier.classes_)"
   ]
  },
  {
   "cell_type": "code",
   "execution_count": null,
   "metadata": {},
   "outputs": [],
   "source": [
    "decision_tree=tree.DecisionTreeClassifier(random_state=1000)\n",
    "classifier.set_params(clf=decision_tree)\n",
    "classifier.fit(X_train, y_train)\n",
    "predictions = classifier.predict(X_test)\n",
    "print_scores()"
   ]
  },
  {
   "cell_type": "code",
   "execution_count": null,
   "metadata": {},
   "outputs": [],
   "source": [
    "classifier.set_params(clf=RandomForestClassifier(random_state=1000))\n",
    "classifier.fit(X_train, y_train)\n",
    "predictions = classifier.predict(X_test)\n",
    "print_scores()"
   ]
  },
  {
   "cell_type": "code",
   "execution_count": null,
   "metadata": {},
   "outputs": [],
   "source": [
    "classifier.set_params(clf=XGBClassifier(max_depth=3, n_estimators=300, learning_rate=0.1, random_state=0))\n",
    "classifier.fit(X_train, y_train)\n",
    "predictions = classifier.predict(X_test)\n",
    "print_scores()"
   ]
  },
  {
   "cell_type": "markdown",
   "metadata": {},
   "source": [
    "## Using char_wb for the TFIDVectorizer and features union"
   ]
  },
  {
   "cell_type": "code",
   "execution_count": null,
   "metadata": {},
   "outputs": [],
   "source": [
    "classifier_char_wb = Pipeline([\n",
    "    ('features', FeatureUnion([\n",
    "        ('text', Pipeline([\n",
    "            ('colext', TextSelector('statement')),\n",
    "            ('tfidf', TfidfVectorizer(analyzer='char_wb',preprocessor=preprocess, tokenizer=Tokenizer, stop_words=stopwords_list,\n",
    "                     min_df=.0025, max_df=0.25, ngram_range=(1,3))),\n",
    "            ('svd', TruncatedSVD(algorithm='randomized', n_components=300)), #for XGB\n",
    "        ])),\n",
    "        ('words', Pipeline([\n",
    "            ('wordext', NumberSelector('TotalWords')),\n",
    "            ('wscaler', StandardScaler()),\n",
    "        ])),\n",
    "    ])),\n",
    "    ('clf', LogisticRegression(solver='liblinear', random_state=1000)),\n",
    "    ])"
   ]
  },
  {
   "cell_type": "code",
   "execution_count": null,
   "metadata": {},
   "outputs": [],
   "source": [
    "#logistic regression\n",
    "classifier_char_wb.fit(X_train, y_train)\n",
    "predictions = classifier_char_wb.predict(X_test)\n",
    "print_scores()"
   ]
  },
  {
   "cell_type": "code",
   "execution_count": null,
   "metadata": {},
   "outputs": [],
   "source": [
    "# Gaussian NB\n",
    "classifier_char_wb.set_params(clf=GaussianNB())\n",
    "classifier_char_wb.fit(X_train, y_train)\n",
    "predictions = classifier_char_wb.predict(X_test)\n",
    "print_scores()"
   ]
  },
  {
   "cell_type": "code",
   "execution_count": null,
   "metadata": {},
   "outputs": [],
   "source": [
    "#Support vector Machine classifier\n",
    "classifier_char_wb.set_params(clf=svm.SVC(C=1.0, kernel='linear', degree=3, gamma='auto'))\n",
    "classifier_char_wb.fit(X_train, y_train)\n",
    "predictions = classifier_char_wb.predict(X_test)\n",
    "print_scores()"
   ]
  },
  {
   "cell_type": "code",
   "execution_count": null,
   "metadata": {},
   "outputs": [],
   "source": [
    "#decision tree\n",
    "decision_tree=tree.DecisionTreeClassifier(random_state=1000)\n",
    "classifier_char_wb.set_params(clf=decision_tree)\n",
    "classifier_char_wb.fit(X_train, y_train)\n",
    "predictions = classifier_char_wb.predict(X_test)\n",
    "print_scores()"
   ]
  },
  {
   "cell_type": "code",
   "execution_count": null,
   "metadata": {},
   "outputs": [],
   "source": [
    "classifier_char_wb.set_params(clf=RandomForestClassifier())\n",
    "classifier_char_wb.fit(X_train, y_train)\n",
    "predictions = classifier_char_wb.predict(X_test)\n",
    "print_scores()"
   ]
  },
  {
   "cell_type": "code",
   "execution_count": null,
   "metadata": {},
   "outputs": [],
   "source": [
    "classifier_char_wb.set_params(clf=XGBClassifier(max_depth=3, n_estimators=300, learning_rate=0.1, random_state=0))\n",
    "classifier_char_wb.fit(X_train, y_train)\n",
    "predictions = classifier.predict(X_test)\n",
    "print_scores()"
   ]
  },
  {
   "cell_type": "markdown",
   "metadata": {},
   "source": [
    "### Grid Search CV with TFIDVectorizer, feature Union and top 2 performing classifiers"
   ]
  },
  {
   "cell_type": "code",
   "execution_count": null,
   "metadata": {},
   "outputs": [],
   "source": [
    "classifier_grid = Pipeline([\n",
    "    ('features', FeatureUnion([\n",
    "        ('text', Pipeline([\n",
    "            ('colext', TextSelector('statement')),\n",
    "            ('tfidf', TfidfVectorizer(analyzer='word', preprocessor=preprocess, tokenizer=Tokenizer, stop_words='english',\n",
    "                     min_df=.0025, max_df=0.25, ngram_range=(1,3))),\n",
    "            ('svd', TruncatedSVD(algorithm='randomized', n_components=300)), #for XGB\n",
    "        ])),\n",
    "        ('words', Pipeline([\n",
    "            ('wordext', NumberSelector('TotalWords')),\n",
    "            ('wscaler', StandardScaler()),\n",
    "        ])),\n",
    "    ])),\n",
    "    ('clf',None),\n",
    "    ])\n",
    "    \n",
    "param_grid={\n",
    "   # 'selector__k': [100, 50,150],\n",
    "    'clf': [LogisticRegression(solver='liblinear', random_state=0),svm.SVC(C=1.0, kernel='linear', degree=3, gamma='auto'),\n",
    "    svm.SVC(C=1.0, kernel='linear', degree=3, gamma='auto'),RandomForestClassifier() ],\n",
    "}\n"
   ]
  },
  {
   "cell_type": "code",
   "execution_count": null,
   "metadata": {},
   "outputs": [],
   "source": [
    "search = GridSearchCV(classifier_grid, cv = StratifiedKFold(n_splits=5, random_state=0), \n",
    "                      return_train_score = False, \n",
    "                      scoring = ['accuracy', 'precision_weighted', 'recall_weighted', 'f1_weighted'],\n",
    "                      refit = 'f1_weighted',\n",
    "                      param_grid = param_grid)\n",
    "\n",
    "search.fit(X_train, y_train)\n",
    " "
   ]
  },
  {
   "cell_type": "code",
   "execution_count": null,
   "metadata": {},
   "outputs": [],
   "source": [
    "pd.DataFrame(search.cv_results_)"
   ]
  },
  {
   "cell_type": "code",
   "execution_count": null,
   "metadata": {},
   "outputs": [],
   "source": [
    "predictions = search.predict(X_test)\n",
    "\n",
    "print(\"Accuracy: \", accuracy_score(y_test, predictions))\n",
    "print(classification_report(y_test, predictions))\n",
    "print(confusion_matrix(y_test, predictions))\n",
    "\n",
    "confusion_matrix_heatmap(confusion_matrix(y_test,predictions), search.classes_)"
   ]
  },
  {
   "cell_type": "code",
   "execution_count": null,
   "metadata": {},
   "outputs": [],
   "source": [
    "confusion_matrix_percent_heatmap(confusion_matrix(y_test,predictions), search.classes_)"
   ]
  },
  {
   "cell_type": "code",
   "execution_count": null,
   "metadata": {},
   "outputs": [],
   "source": [
    "print(search.best_estimator_ )"
   ]
  },
  {
   "cell_type": "code",
   "execution_count": null,
   "metadata": {},
   "outputs": [],
   "source": [
    "search.best_score_"
   ]
  },
  {
   "cell_type": "code",
   "execution_count": null,
   "metadata": {},
   "outputs": [],
   "source": [
    "print(search.best_params_) "
   ]
  },
  {
   "cell_type": "code",
   "execution_count": null,
   "metadata": {},
   "outputs": [],
   "source": [
    "print(search.scorer_)"
   ]
  },
  {
   "cell_type": "markdown",
   "metadata": {},
   "source": [
    "## Lemmatisation of the 'statements' by giving POS (parts of speech) Tags as context"
   ]
  },
  {
   "cell_type": "markdown",
   "metadata": {},
   "source": [
    "> Earlier we did stemming of the 'statements' in the LIAR dataset using NLTK porter stemmer. Now we use stemming.The aim of both is the similar that is to reduce the inflectional forms of each word into a common base or root. Lemmatization is closely related to stemming, However the difference is that a stemmer operates on a single word without knowledge of the context, and therefore cannot discriminate between words which have different meanings depending on part of speech. Here we provide POS (parts of speech tagging) as the context for lemmatisation. Stemmers are typically easier to implement and run faster but have reduced accuracy.\n"
   ]
  },
  {
   "cell_type": "code",
   "execution_count": null,
   "metadata": {},
   "outputs": [],
   "source": [
    "\"\"\"WordNetLemmatizer requires Pos tags to understand if the word is noun or verb or adjective etc.\n",
    "        By default it is set to Noun. Here we consider only POS tags of Noun, Adjective, Verb and Adverb. \"\"\"\n",
    "\n",
    "corpus=[]\n",
    "\n",
    "for state in df_raw_tfid['statement']:\n",
    "    \n",
    "    texts=preprocess(state)\n",
    "    token=nltk.word_tokenize(texts)\n",
    "    corpus.append(token)\n",
    "\n",
    "tag_map = defaultdict(lambda : wn.NOUN)\n",
    "tag_map['J'] = wn.ADJ\n",
    "tag_map['V'] = wn.VERB\n",
    "tag_map['R'] = wn.ADV\n",
    "\n",
    "for index,entry in enumerate(corpus):\n",
    "    # looping through the entries and saving in the corpus\n",
    "    Final_words = []\n",
    "    # fitting WordNetLemmatizer()\n",
    "    word_Lemmatized = WordNetLemmatizer()\n",
    "    # pos_tag will provide the 'tag' i.e if the word is Noun(N) or Verb(V) etc.\n",
    "    for word, tag in pos_tag(entry):\n",
    "        # condition is to check for Stop words and consider only alphabets\n",
    "        if word not in stopwords.words('english') and word.isalpha():\n",
    "            word_Final = word_Lemmatized.lemmatize(word,tag_map[tag[0]])\n",
    "            Final_words.append(word_Final)\n",
    "    # The processed words for each 'statement' will be store in column 'lemmatised_words in the dataframe'\n",
    "    df_raw_tfid.loc[index,'Lemmatised_words'] = str(Final_words)"
   ]
  },
  {
   "cell_type": "code",
   "execution_count": null,
   "metadata": {},
   "outputs": [],
   "source": [
    "# sample lemmatised text of the 'statements'\n",
    "corpus[1:2]"
   ]
  },
  {
   "cell_type": "code",
   "execution_count": null,
   "metadata": {},
   "outputs": [],
   "source": [
    "# We can see that new column 'Lemmtised_words is created which stores the lemmatised words of the 'statements'\n",
    "df_raw_tfid.head(2)"
   ]
  },
  {
   "cell_type": "code",
   "execution_count": null,
   "metadata": {},
   "outputs": [],
   "source": [
    "X=df_raw_tfid['Lemmatised_words'].tolist()\n",
    "y=df_raw_tfid['label']"
   ]
  },
  {
   "cell_type": "code",
   "execution_count": null,
   "metadata": {},
   "outputs": [],
   "source": [
    "# fitting TfidfVectorizer with the lemmatised 'statements'\n",
    "Encoder = LabelEncoder()\n",
    "y = Encoder.fit_transform(y)\n",
    "\n",
    "Tfidf_vect = TfidfVectorizer()\n",
    "Tfidf_vect.fit(df_raw_tfid['Lemmatised_words'])\n",
    "X = Tfidf_vect.transform(X)"
   ]
  },
  {
   "cell_type": "code",
   "execution_count": null,
   "metadata": {},
   "outputs": [],
   "source": [
    "# logistic regression classifier\n",
    "logistic = LogisticRegression(solver='liblinear', random_state=0)"
   ]
  },
  {
   "cell_type": "code",
   "execution_count": null,
   "metadata": {},
   "outputs": [],
   "source": [
    "# cross validation\n",
    "cv_scores = cross_validate(logistic, X, y, cv=StratifiedKFold(n_splits=5, random_state=0), return_train_score=False, scoring=['accuracy', 'precision_weighted', 'recall_weighted', 'f1_weighted'])\n",
    "print_cv_scores_summary(\"Accuracy\", cv_scores['test_accuracy'])\n",
    "print_cv_scores_summary(\"Precision\", cv_scores['test_precision_weighted'])\n",
    "print_cv_scores_summary(\"Recall\", cv_scores['test_recall_weighted'])\n",
    "print_cv_scores_summary(\"F1\", cv_scores['test_f1_weighted'])\n",
    "\n"
   ]
  },
  {
   "cell_type": "code",
   "execution_count": null,
   "metadata": {},
   "outputs": [],
   "source": [
    "#confusion_matrix_heatmap(confusion_matrix(y_test,predictions), search.classes_)"
   ]
  },
  {
   "cell_type": "code",
   "execution_count": null,
   "metadata": {},
   "outputs": [],
   "source": [
    "SVM_classifier=svm.SVC(C=1.0, kernel='linear', degree=3, gamma='auto', random_state=0)"
   ]
  },
  {
   "cell_type": "code",
   "execution_count": null,
   "metadata": {},
   "outputs": [],
   "source": [
    "cv_scores = cross_validate(SVM_classifier, X, y, cv=StratifiedKFold(n_splits=5, random_state=0), return_train_score=False, scoring=['accuracy', 'precision_weighted', 'recall_weighted', 'f1_weighted'])\n",
    "print_cv_scores_summary(\"Accuracy\", cv_scores['test_accuracy'])\n",
    "print_cv_scores_summary(\"Precision\", cv_scores['test_precision_weighted'])\n",
    "print_cv_scores_summary(\"Recall\", cv_scores['test_recall_weighted'])\n",
    "print_cv_scores_summary(\"F1\", cv_scores['test_f1_weighted'])\n"
   ]
  },
  {
   "cell_type": "code",
   "execution_count": null,
   "metadata": {},
   "outputs": [],
   "source": [
    "XGradientBoost= XGBClassifier(max_depth=3, n_estimators=300, learning_rate=0.1, random_state=0)"
   ]
  },
  {
   "cell_type": "code",
   "execution_count": null,
   "metadata": {},
   "outputs": [],
   "source": [
    "cv_scores = cross_validate(XGradientBoost, X, y, cv=StratifiedKFold(n_splits=5, random_state=0), return_train_score=False, scoring=['accuracy', 'precision_weighted', 'recall_weighted', 'f1_weighted'])\n",
    "print_cv_scores_summary(\"Accuracy\", cv_scores['test_accuracy'])\n",
    "print_cv_scores_summary(\"Precision\", cv_scores['test_precision_weighted'])\n",
    "print_cv_scores_summary(\"Recall\", cv_scores['test_recall_weighted'])\n",
    "print_cv_scores_summary(\"F1\", cv_scores['test_f1_weighted'])\n"
   ]
  },
  {
   "cell_type": "markdown",
   "metadata": {},
   "source": [
    "## Converting the Multiclass labels into Binary class labels (Fake & True) and predicting"
   ]
  },
  {
   "cell_type": "code",
   "execution_count": null,
   "metadata": {},
   "outputs": [],
   "source": [
    "bi_class.head(2)"
   ]
  },
  {
   "cell_type": "code",
   "execution_count": null,
   "metadata": {},
   "outputs": [],
   "source": [
    "bi_class['TotalWords'] = bi_class['statement'].str.split().str.len()"
   ]
  },
  {
   "cell_type": "code",
   "execution_count": null,
   "metadata": {},
   "outputs": [],
   "source": [
    "bi_class.head(2)"
   ]
  },
  {
   "cell_type": "code",
   "execution_count": null,
   "metadata": {},
   "outputs": [],
   "source": [
    "X = bi_class[['statement', 'TotalWords']]\n",
    "\n",
    "Y=  bi_class['label']"
   ]
  },
  {
   "cell_type": "code",
   "execution_count": null,
   "metadata": {},
   "outputs": [],
   "source": [
    "X_train, X_test, y_train, y_test = train_test_split(X, Y, test_size=0.25)"
   ]
  },
  {
   "cell_type": "code",
   "execution_count": null,
   "metadata": {},
   "outputs": [],
   "source": [
    "\n",
    "classifier_biclass = Pipeline([\n",
    "    ('features', FeatureUnion([\n",
    "        ('text', Pipeline([\n",
    "            ('colext', TextSelector('statement')),\n",
    "            ('tfidf', TfidfVectorizer(analyzer='word',preprocessor=preprocess, tokenizer=Tokenizer, stop_words=stopwords_list,\n",
    "                     min_df=.0025, max_df=0.25, ngram_range=(1,3))),\n",
    "            ('svd', TruncatedSVD(algorithm='randomized', n_components=300)), #for XGB\n",
    "        ])),\n",
    "        ('words', Pipeline([\n",
    "            ('wordext', NumberSelector('TotalWords')),\n",
    "            ('wscaler', StandardScaler()),\n",
    "        ])),\n",
    "    ])),\n",
    "    ('clf', LogisticRegression(solver='liblinear', random_state=0)),\n",
    "    ])"
   ]
  },
  {
   "cell_type": "code",
   "execution_count": null,
   "metadata": {},
   "outputs": [],
   "source": [
    "classifier_biclass.fit(X_train, y_train)\n",
    "predictions = classifier_biclass.predict(X_test)\n",
    "print_scores()"
   ]
  },
  {
   "cell_type": "code",
   "execution_count": null,
   "metadata": {},
   "outputs": [],
   "source": [
    "matrix=confusion_matrix(y_test, predictions) # getting the results of confusion matrix from the classification.\n",
    "sns.heatmap(matrix, annot = True,fmt='g')       # printing the matrix\n",
    "plt.title('Logistic Regression binary class Confusion-Matrix')\n",
    "plt.ylabel('True labels')\n",
    "plt.xlabel('Predicted labels');"
   ]
  },
  {
   "cell_type": "code",
   "execution_count": null,
   "metadata": {},
   "outputs": [],
   "source": [
    "classifier_biclass.set_params(clf=GaussianNB())\n",
    "classifier_biclass.fit(X_train, y_train)\n",
    "predictions = classifier_biclass.predict(X_test)\n",
    "print_scores()"
   ]
  },
  {
   "cell_type": "code",
   "execution_count": null,
   "metadata": {},
   "outputs": [],
   "source": [
    "classifier.set_params(clf=svm.SVC(C=1.0, kernel='linear', degree=3, gamma='auto'))\n",
    "classifier_biclass.fit(X_train, y_train)\n",
    "predictions = classifier_biclass.predict(X_test)\n",
    "print_scores()"
   ]
  },
  {
   "cell_type": "code",
   "execution_count": null,
   "metadata": {},
   "outputs": [],
   "source": [
    "decision_tree=tree.DecisionTreeClassifier(random_state=1000)\n",
    "classifier.set_params(clf=decision_tree)\n",
    "classifier_biclass.fit(X_train, y_train)\n",
    "predictions = classifier_biclass.predict(X_test)\n",
    "print_scores()"
   ]
  },
  {
   "cell_type": "code",
   "execution_count": null,
   "metadata": {},
   "outputs": [],
   "source": [
    "classifier.set_params(clf=RandomForestClassifier())\n",
    "classifier_biclass.fit(X_train, y_train)\n",
    "predictions = classifier_biclass.predict(X_test)\n",
    "print_scores()"
   ]
  },
  {
   "cell_type": "code",
   "execution_count": null,
   "metadata": {},
   "outputs": [],
   "source": [
    "classifier.set_params(clf=XGBClassifier(max_depth=3, n_estimators=300, learning_rate=0.1, random_state=0))\n",
    "classifier_biclass.fit(X_train, y_train)\n",
    "predictions = classifier_biclass.predict(X_test)\n",
    "print_scores()"
   ]
  }
 ],
 "metadata": {
  "kernelspec": {
   "display_name": "Python 3",
   "language": "python",
   "name": "python3"
  },
  "language_info": {
   "codemirror_mode": {
    "name": "ipython",
    "version": 3
   },
   "file_extension": ".py",
   "mimetype": "text/x-python",
   "name": "python",
   "nbconvert_exporter": "python",
   "pygments_lexer": "ipython3",
   "version": "3.8.5"
  }
 },
 "nbformat": 4,
 "nbformat_minor": 2
}
